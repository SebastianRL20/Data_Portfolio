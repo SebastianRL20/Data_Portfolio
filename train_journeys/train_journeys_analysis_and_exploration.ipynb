{
 "cells": [
  {
   "cell_type": "markdown",
   "metadata": {
    "id": "WnYTJkZfndyq"
   },
   "source": [
    "# Train Journeys Exploration And Analysis in Spain\n",
    "## By Sebastian Romero"
   ]
  },
  {
   "cell_type": "markdown",
   "metadata": {},
   "source": [
    "### Goal of the analysis\n",
    "\n",
    "In this analysis, we'll be working with a dataset that contains comprehensive information about train journeys in Spain, collected over a one year period (2019). Our dataset includes information about the origin and destination cities, the type of train, the fare type, the class of travel, the ticket price, and the timing of each journey.\n",
    "\n",
    "We will be performing a variety of exploratory data analyses and visualization tasks to identify trends, correlations, and other insightful patterns.\n",
    "\n",
    "**Disclaimer:** This is a dummy dataset and do not represent the reality of the train journeys in Spain."
   ]
  },
  {
   "cell_type": "markdown",
   "metadata": {},
   "source": [
    "### First we change the layout of the Jupyter Notebook"
   ]
  },
  {
   "cell_type": "code",
   "execution_count": 1,
   "metadata": {},
   "outputs": [
    {
     "data": {
      "text/html": [
       "<style>.container { width:100% !important; }</style>"
      ],
      "text/plain": [
       "<IPython.core.display.HTML object>"
      ]
     },
     "metadata": {},
     "output_type": "display_data"
    }
   ],
   "source": [
    "from IPython.display import display, HTML\n",
    "display(HTML(\"<style>.container { width:100% !important; }</style>\"))"
   ]
  },
  {
   "cell_type": "markdown",
   "metadata": {},
   "source": [
    "### If db is open from Google  Drive we import `google.colab.drive`"
   ]
  },
  {
   "cell_type": "code",
   "execution_count": 1,
   "metadata": {
    "colab": {
     "base_uri": "https://localhost:8080/"
    },
    "id": "eepPduAVp-fA",
    "outputId": "e3dd3172-1489-45ca-be81-385bfc9ec5de"
   },
   "outputs": [
    {
     "name": "stdout",
     "output_type": "stream",
     "text": [
      "Mounted at /content/drive\n"
     ]
    }
   ],
   "source": [
    "from google.colab import drive\n",
    "drive.mount('/content/drive')"
   ]
  },
  {
   "cell_type": "markdown",
   "metadata": {},
   "source": [
    "### Import all the necessary libraries to explore the data"
   ]
  },
  {
   "cell_type": "code",
   "execution_count": 2,
   "metadata": {
    "id": "1iUgwBhFndyv"
   },
   "outputs": [],
   "source": [
    "#importamos librería\n",
    "import pandas as pd\n",
    "import numpy as np\n",
    "import matplotlib.pyplot as plt\n",
    "import seaborn as sns\n",
    "\n",
    "from sklearn.preprocessing import LabelEncoder,MinMaxScaler\n",
    "\n",
    "import folium\n",
    "import plotly.express as px"
   ]
  },
  {
   "cell_type": "markdown",
   "metadata": {
    "id": "qQDwg2ZOndy0"
   },
   "source": [
    "### Let's read the csv file from the drive"
   ]
  },
  {
   "cell_type": "code",
   "execution_count": 4,
   "metadata": {
    "id": "IpYxNAv5rpWo"
   },
   "outputs": [],
   "source": [
    "df_renfe = pd.read_csv(\"/content/drive/MyDrive/DATA SCIENCE/Clase1y2-Preprocessing/Clase1y2-Preprocessing/Project TrenMax/Project TrenMax/dataset/renfe.csv\",index_col=0)"
   ]
  },
  {
   "cell_type": "markdown",
   "metadata": {},
   "source": [
    "### Now to start we want to check the columns, types, memory usage and the total data we will be exploring"
   ]
  },
  {
   "cell_type": "code",
   "execution_count": 5,
   "metadata": {
    "colab": {
     "base_uri": "https://localhost:8080/"
    },
    "id": "cciTWWL3RDa-",
    "outputId": "8db07216-5ceb-48c8-c482-e82c563a0a61"
   },
   "outputs": [
    {
     "name": "stdout",
     "output_type": "stream",
     "text": [
      "<class 'pandas.core.frame.DataFrame'>\n",
      "Int64Index: 383568 entries, 0 to 383567\n",
      "Data columns (total 9 columns):\n",
      " #   Column          Non-Null Count   Dtype  \n",
      "---  ------          --------------   -----  \n",
      " 0   FECHA_CONSULTA  383568 non-null  object \n",
      " 1   FECHA_INICIO    383568 non-null  object \n",
      " 2   FECHA_FIN       383568 non-null  object \n",
      " 3   CIUDAD_ORIGEN   383568 non-null  object \n",
      " 4   CIUDAD_DESTINO  383568 non-null  object \n",
      " 5   TIPO_TREN       345211 non-null  object \n",
      " 6   TIPO_TARIFA     344009 non-null  object \n",
      " 7   CLASE           344000 non-null  object \n",
      " 8   PRECIO          355038 non-null  float64\n",
      "dtypes: float64(1), object(8)\n",
      "memory usage: 29.3+ MB\n"
     ]
    }
   ],
   "source": [
    "df_renfe.info()"
   ]
  },
  {
   "cell_type": "markdown",
   "metadata": {},
   "source": [
    "### This is a sample of the data, we will be working with train routes, duration of the journey, prices and ticket classes"
   ]
  },
  {
   "cell_type": "code",
   "execution_count": 6,
   "metadata": {
    "colab": {
     "base_uri": "https://localhost:8080/",
     "height": 206
    },
    "id": "ew4uDu38RMp6",
    "outputId": "983461da-3256-4581-dc69-423d115e35e2"
   },
   "outputs": [
    {
     "data": {
      "text/html": [
       "\n",
       "  <div id=\"df-c3421c2f-489b-4b6e-8923-6793f0c24b65\">\n",
       "    <div class=\"colab-df-container\">\n",
       "      <div>\n",
       "<style scoped>\n",
       "    .dataframe tbody tr th:only-of-type {\n",
       "        vertical-align: middle;\n",
       "    }\n",
       "\n",
       "    .dataframe tbody tr th {\n",
       "        vertical-align: top;\n",
       "    }\n",
       "\n",
       "    .dataframe thead th {\n",
       "        text-align: right;\n",
       "    }\n",
       "</style>\n",
       "<table border=\"1\" class=\"dataframe\">\n",
       "  <thead>\n",
       "    <tr style=\"text-align: right;\">\n",
       "      <th></th>\n",
       "      <th>FECHA_CONSULTA</th>\n",
       "      <th>FECHA_INICIO</th>\n",
       "      <th>FECHA_FIN</th>\n",
       "      <th>CIUDAD_ORIGEN</th>\n",
       "      <th>CIUDAD_DESTINO</th>\n",
       "      <th>TIPO_TREN</th>\n",
       "      <th>TIPO_TARIFA</th>\n",
       "      <th>CLASE</th>\n",
       "      <th>PRECIO</th>\n",
       "    </tr>\n",
       "  </thead>\n",
       "  <tbody>\n",
       "    <tr>\n",
       "      <th>0</th>\n",
       "      <td>2019-05-25 01:43:03</td>\n",
       "      <td>2019-06-28 20:36:00</td>\n",
       "      <td>2019-06-28 23:14:00</td>\n",
       "      <td>SEVILLA</td>\n",
       "      <td>MADRID</td>\n",
       "      <td>ALVIA</td>\n",
       "      <td>Flexible</td>\n",
       "      <td>Turista</td>\n",
       "      <td>67.20</td>\n",
       "    </tr>\n",
       "    <tr>\n",
       "      <th>1</th>\n",
       "      <td>2019-06-22 13:05:11</td>\n",
       "      <td>2019-07-14 10:00:00</td>\n",
       "      <td>2019-07-14 13:10:00</td>\n",
       "      <td>BARCELONA</td>\n",
       "      <td>MADRID</td>\n",
       "      <td>AVE</td>\n",
       "      <td>Flexible</td>\n",
       "      <td>Turista</td>\n",
       "      <td>107.70</td>\n",
       "    </tr>\n",
       "    <tr>\n",
       "      <th>2</th>\n",
       "      <td>2019-04-17 06:24:03</td>\n",
       "      <td>2019-05-23 13:40:00</td>\n",
       "      <td>2019-05-23 16:10:00</td>\n",
       "      <td>SEVILLA</td>\n",
       "      <td>MADRID</td>\n",
       "      <td>AVE</td>\n",
       "      <td>Promo</td>\n",
       "      <td>Turista</td>\n",
       "      <td>47.30</td>\n",
       "    </tr>\n",
       "    <tr>\n",
       "      <th>3</th>\n",
       "      <td>2019-05-10 21:21:59</td>\n",
       "      <td>2019-05-29 14:50:00</td>\n",
       "      <td>2019-05-29 22:30:00</td>\n",
       "      <td>VALENCIA</td>\n",
       "      <td>MADRID</td>\n",
       "      <td>REGIONAL</td>\n",
       "      <td>Adulto ida</td>\n",
       "      <td>Turista</td>\n",
       "      <td>28.35</td>\n",
       "    </tr>\n",
       "    <tr>\n",
       "      <th>4</th>\n",
       "      <td>2019-05-09 19:43:37</td>\n",
       "      <td>2019-06-26 13:25:00</td>\n",
       "      <td>2019-06-26 16:24:00</td>\n",
       "      <td>MADRID</td>\n",
       "      <td>BARCELONA</td>\n",
       "      <td>AVE-TGV</td>\n",
       "      <td>Promo</td>\n",
       "      <td>Turista</td>\n",
       "      <td>66.75</td>\n",
       "    </tr>\n",
       "  </tbody>\n",
       "</table>\n",
       "</div>\n",
       "      <button class=\"colab-df-convert\" onclick=\"convertToInteractive('df-c3421c2f-489b-4b6e-8923-6793f0c24b65')\"\n",
       "              title=\"Convert this dataframe to an interactive table.\"\n",
       "              style=\"display:none;\">\n",
       "        \n",
       "  <svg xmlns=\"http://www.w3.org/2000/svg\" height=\"24px\"viewBox=\"0 0 24 24\"\n",
       "       width=\"24px\">\n",
       "    <path d=\"M0 0h24v24H0V0z\" fill=\"none\"/>\n",
       "    <path d=\"M18.56 5.44l.94 2.06.94-2.06 2.06-.94-2.06-.94-.94-2.06-.94 2.06-2.06.94zm-11 1L8.5 8.5l.94-2.06 2.06-.94-2.06-.94L8.5 2.5l-.94 2.06-2.06.94zm10 10l.94 2.06.94-2.06 2.06-.94-2.06-.94-.94-2.06-.94 2.06-2.06.94z\"/><path d=\"M17.41 7.96l-1.37-1.37c-.4-.4-.92-.59-1.43-.59-.52 0-1.04.2-1.43.59L10.3 9.45l-7.72 7.72c-.78.78-.78 2.05 0 2.83L4 21.41c.39.39.9.59 1.41.59.51 0 1.02-.2 1.41-.59l7.78-7.78 2.81-2.81c.8-.78.8-2.07 0-2.86zM5.41 20L4 18.59l7.72-7.72 1.47 1.35L5.41 20z\"/>\n",
       "  </svg>\n",
       "      </button>\n",
       "      \n",
       "  <style>\n",
       "    .colab-df-container {\n",
       "      display:flex;\n",
       "      flex-wrap:wrap;\n",
       "      gap: 12px;\n",
       "    }\n",
       "\n",
       "    .colab-df-convert {\n",
       "      background-color: #E8F0FE;\n",
       "      border: none;\n",
       "      border-radius: 50%;\n",
       "      cursor: pointer;\n",
       "      display: none;\n",
       "      fill: #1967D2;\n",
       "      height: 32px;\n",
       "      padding: 0 0 0 0;\n",
       "      width: 32px;\n",
       "    }\n",
       "\n",
       "    .colab-df-convert:hover {\n",
       "      background-color: #E2EBFA;\n",
       "      box-shadow: 0px 1px 2px rgba(60, 64, 67, 0.3), 0px 1px 3px 1px rgba(60, 64, 67, 0.15);\n",
       "      fill: #174EA6;\n",
       "    }\n",
       "\n",
       "    [theme=dark] .colab-df-convert {\n",
       "      background-color: #3B4455;\n",
       "      fill: #D2E3FC;\n",
       "    }\n",
       "\n",
       "    [theme=dark] .colab-df-convert:hover {\n",
       "      background-color: #434B5C;\n",
       "      box-shadow: 0px 1px 3px 1px rgba(0, 0, 0, 0.15);\n",
       "      filter: drop-shadow(0px 1px 2px rgba(0, 0, 0, 0.3));\n",
       "      fill: #FFFFFF;\n",
       "    }\n",
       "  </style>\n",
       "\n",
       "      <script>\n",
       "        const buttonEl =\n",
       "          document.querySelector('#df-c3421c2f-489b-4b6e-8923-6793f0c24b65 button.colab-df-convert');\n",
       "        buttonEl.style.display =\n",
       "          google.colab.kernel.accessAllowed ? 'block' : 'none';\n",
       "\n",
       "        async function convertToInteractive(key) {\n",
       "          const element = document.querySelector('#df-c3421c2f-489b-4b6e-8923-6793f0c24b65');\n",
       "          const dataTable =\n",
       "            await google.colab.kernel.invokeFunction('convertToInteractive',\n",
       "                                                     [key], {});\n",
       "          if (!dataTable) return;\n",
       "\n",
       "          const docLinkHtml = 'Like what you see? Visit the ' +\n",
       "            '<a target=\"_blank\" href=https://colab.research.google.com/notebooks/data_table.ipynb>data table notebook</a>'\n",
       "            + ' to learn more about interactive tables.';\n",
       "          element.innerHTML = '';\n",
       "          dataTable['output_type'] = 'display_data';\n",
       "          await google.colab.output.renderOutput(dataTable, element);\n",
       "          const docLink = document.createElement('div');\n",
       "          docLink.innerHTML = docLinkHtml;\n",
       "          element.appendChild(docLink);\n",
       "        }\n",
       "      </script>\n",
       "    </div>\n",
       "  </div>\n",
       "  "
      ],
      "text/plain": [
       "        FECHA_CONSULTA         FECHA_INICIO            FECHA_FIN  \\\n",
       "0  2019-05-25 01:43:03  2019-06-28 20:36:00  2019-06-28 23:14:00   \n",
       "1  2019-06-22 13:05:11  2019-07-14 10:00:00  2019-07-14 13:10:00   \n",
       "2  2019-04-17 06:24:03  2019-05-23 13:40:00  2019-05-23 16:10:00   \n",
       "3  2019-05-10 21:21:59  2019-05-29 14:50:00  2019-05-29 22:30:00   \n",
       "4  2019-05-09 19:43:37  2019-06-26 13:25:00  2019-06-26 16:24:00   \n",
       "\n",
       "  CIUDAD_ORIGEN CIUDAD_DESTINO TIPO_TREN TIPO_TARIFA    CLASE  PRECIO  \n",
       "0       SEVILLA         MADRID     ALVIA    Flexible  Turista   67.20  \n",
       "1     BARCELONA         MADRID       AVE    Flexible  Turista  107.70  \n",
       "2       SEVILLA         MADRID       AVE       Promo  Turista   47.30  \n",
       "3      VALENCIA         MADRID  REGIONAL  Adulto ida  Turista   28.35  \n",
       "4        MADRID      BARCELONA   AVE-TGV       Promo  Turista   66.75  "
      ]
     },
     "execution_count": 6,
     "metadata": {},
     "output_type": "execute_result"
    }
   ],
   "source": [
    "df_renfe.head()"
   ]
  },
  {
   "cell_type": "code",
   "execution_count": 7,
   "metadata": {
    "id": "XybcKFzlndy0"
   },
   "outputs": [],
   "source": [
    "#PREGUNTA 1   R/ TIPO_TREN;TIPO_TARIFA;CLASE;PRECIO SERIAN LAS VARIABLES CON NULOS"
   ]
  },
  {
   "cell_type": "code",
   "execution_count": 8,
   "metadata": {
    "colab": {
     "base_uri": "https://localhost:8080/"
    },
    "id": "puy0XDZCndy1",
    "outputId": "614e31ce-8906-48f4-95b6-0c1e9e525401"
   },
   "outputs": [
    {
     "name": "stdout",
     "output_type": "stream",
     "text": [
      "<class 'pandas.core.frame.DataFrame'>\n",
      "Int64Index: 383568 entries, 0 to 383567\n",
      "Data columns (total 9 columns):\n",
      " #   Column          Non-Null Count   Dtype  \n",
      "---  ------          --------------   -----  \n",
      " 0   FECHA_CONSULTA  383568 non-null  object \n",
      " 1   FECHA_INICIO    383568 non-null  object \n",
      " 2   FECHA_FIN       383568 non-null  object \n",
      " 3   CIUDAD_ORIGEN   383568 non-null  object \n",
      " 4   CIUDAD_DESTINO  383568 non-null  object \n",
      " 5   TIPO_TREN       345211 non-null  object \n",
      " 6   TIPO_TARIFA     344009 non-null  object \n",
      " 7   CLASE           344000 non-null  object \n",
      " 8   PRECIO          355038 non-null  float64\n",
      "dtypes: float64(1), object(8)\n",
      "memory usage: 29.3+ MB\n"
     ]
    }
   ],
   "source": [
    "df_renfe.info()"
   ]
  },
  {
   "cell_type": "code",
   "execution_count": 9,
   "metadata": {
    "colab": {
     "base_uri": "https://localhost:8080/"
    },
    "id": "ln-YAyapTyi6",
    "outputId": "261fa912-0377-44fd-a078-116071f8a9f6"
   },
   "outputs": [
    {
     "data": {
      "text/plain": [
       "FECHA_CONSULTA        0\n",
       "FECHA_INICIO          0\n",
       "FECHA_FIN             0\n",
       "CIUDAD_ORIGEN         0\n",
       "CIUDAD_DESTINO        0\n",
       "TIPO_TREN         38357\n",
       "TIPO_TARIFA       39559\n",
       "CLASE             39568\n",
       "PRECIO            28530\n",
       "dtype: int64"
      ]
     },
     "execution_count": 9,
     "metadata": {},
     "output_type": "execute_result"
    }
   ],
   "source": [
    "df_renfe.isnull().sum()"
   ]
  },
  {
   "cell_type": "code",
   "execution_count": 10,
   "metadata": {
    "id": "DuoZsHqKndy1"
   },
   "outputs": [],
   "source": [
    "#PREGUNTA 2"
   ]
  },
  {
   "cell_type": "code",
   "execution_count": 11,
   "metadata": {
    "id": "b7aBIcPsUix6"
   },
   "outputs": [],
   "source": [
    "df_renfe1= df_renfe.copy()"
   ]
  },
  {
   "cell_type": "code",
   "execution_count": 12,
   "metadata": {
    "id": "xN6gm-187HJe"
   },
   "outputs": [],
   "source": [
    "lista_fechas = [\"FECHA_CONSULTA\",\"FECHA_INICIO\",\"FECHA_FIN\"]"
   ]
  },
  {
   "cell_type": "code",
   "execution_count": 13,
   "metadata": {
    "id": "5ECD4qaQ66zw"
   },
   "outputs": [],
   "source": [
    "for i in lista_fechas:\n",
    "  df_renfe1[i]=pd.to_datetime(df_renfe1[i])"
   ]
  },
  {
   "cell_type": "code",
   "execution_count": 14,
   "metadata": {
    "colab": {
     "base_uri": "https://localhost:8080/"
    },
    "id": "-B5BQb83Ytw-",
    "outputId": "04c85b84-365a-4f19-8d54-61a82a996ae1"
   },
   "outputs": [
    {
     "name": "stdout",
     "output_type": "stream",
     "text": [
      "<class 'pandas.core.frame.DataFrame'>\n",
      "Int64Index: 383568 entries, 0 to 383567\n",
      "Data columns (total 9 columns):\n",
      " #   Column          Non-Null Count   Dtype         \n",
      "---  ------          --------------   -----         \n",
      " 0   FECHA_CONSULTA  383568 non-null  datetime64[ns]\n",
      " 1   FECHA_INICIO    383568 non-null  datetime64[ns]\n",
      " 2   FECHA_FIN       383568 non-null  datetime64[ns]\n",
      " 3   CIUDAD_ORIGEN   383568 non-null  object        \n",
      " 4   CIUDAD_DESTINO  383568 non-null  object        \n",
      " 5   TIPO_TREN       345211 non-null  object        \n",
      " 6   TIPO_TARIFA     344009 non-null  object        \n",
      " 7   CLASE           344000 non-null  object        \n",
      " 8   PRECIO          355038 non-null  float64       \n",
      "dtypes: datetime64[ns](3), float64(1), object(5)\n",
      "memory usage: 29.3+ MB\n"
     ]
    }
   ],
   "source": [
    "df_renfe1.info()"
   ]
  },
  {
   "cell_type": "code",
   "execution_count": 15,
   "metadata": {
    "id": "FpyoQJpdndy2"
   },
   "outputs": [],
   "source": [
    "#PREGUNTA 3"
   ]
  },
  {
   "cell_type": "code",
   "execution_count": 16,
   "metadata": {
    "colab": {
     "base_uri": "https://localhost:8080/"
    },
    "id": "lq0qr685-JIk",
    "outputId": "dedd5845-69e2-4cc9-9364-28a1f35b9e90"
   },
   "outputs": [
    {
     "data": {
      "text/plain": [
       "383568"
      ]
     },
     "execution_count": 16,
     "metadata": {},
     "output_type": "execute_result"
    }
   ],
   "source": [
    "len( df_renfe1)"
   ]
  },
  {
   "cell_type": "code",
   "execution_count": 17,
   "metadata": {
    "colab": {
     "base_uri": "https://localhost:8080/",
     "height": 846
    },
    "id": "SbniXQDhrckn",
    "outputId": "60f87ecf-5069-41c3-9e24-0f6721c56717"
   },
   "outputs": [
    {
     "data": {
      "text/html": [
       "\n",
       "  <div id=\"df-5b09e63d-2374-49de-9543-b82708f5f4bb\">\n",
       "    <div class=\"colab-df-container\">\n",
       "      <div>\n",
       "<style scoped>\n",
       "    .dataframe tbody tr th:only-of-type {\n",
       "        vertical-align: middle;\n",
       "    }\n",
       "\n",
       "    .dataframe tbody tr th {\n",
       "        vertical-align: top;\n",
       "    }\n",
       "\n",
       "    .dataframe thead th {\n",
       "        text-align: right;\n",
       "    }\n",
       "</style>\n",
       "<table border=\"1\" class=\"dataframe\">\n",
       "  <thead>\n",
       "    <tr style=\"text-align: right;\">\n",
       "      <th></th>\n",
       "      <th>FECHA_CONSULTA</th>\n",
       "      <th>FECHA_INICIO</th>\n",
       "      <th>FECHA_FIN</th>\n",
       "      <th>CIUDAD_ORIGEN</th>\n",
       "      <th>CIUDAD_DESTINO</th>\n",
       "      <th>TIPO_TREN</th>\n",
       "      <th>TIPO_TARIFA</th>\n",
       "      <th>CLASE</th>\n",
       "      <th>PRECIO</th>\n",
       "    </tr>\n",
       "  </thead>\n",
       "  <tbody>\n",
       "    <tr>\n",
       "      <th>67494</th>\n",
       "      <td>2019-04-29 23:15:13</td>\n",
       "      <td>2019-05-14 06:20:00</td>\n",
       "      <td>2019-05-14 14:25:00</td>\n",
       "      <td>MADRID</td>\n",
       "      <td>BARCELONA</td>\n",
       "      <td>LD-AVE</td>\n",
       "      <td>Promo</td>\n",
       "      <td>Turista</td>\n",
       "      <td>NaN</td>\n",
       "    </tr>\n",
       "    <tr>\n",
       "      <th>82429</th>\n",
       "      <td>2019-04-30 09:09:51</td>\n",
       "      <td>2019-05-19 17:30:00</td>\n",
       "      <td>2019-05-19 19:43:00</td>\n",
       "      <td>VALENCIA</td>\n",
       "      <td>MADRID</td>\n",
       "      <td>INTERCITY</td>\n",
       "      <td>Flexible</td>\n",
       "      <td>Turista</td>\n",
       "      <td>55.40</td>\n",
       "    </tr>\n",
       "    <tr>\n",
       "      <th>88401</th>\n",
       "      <td>2019-05-15 23:37:01</td>\n",
       "      <td>2019-06-21 21:05:00</td>\n",
       "      <td>2019-06-21 23:32:00</td>\n",
       "      <td>VALENCIA</td>\n",
       "      <td>MADRID</td>\n",
       "      <td>INTERCITY</td>\n",
       "      <td>NaN</td>\n",
       "      <td>NaN</td>\n",
       "      <td>NaN</td>\n",
       "    </tr>\n",
       "    <tr>\n",
       "      <th>107458</th>\n",
       "      <td>2019-06-12 11:51:44</td>\n",
       "      <td>2019-06-16 17:30:00</td>\n",
       "      <td>2019-06-16 19:43:00</td>\n",
       "      <td>VALENCIA</td>\n",
       "      <td>MADRID</td>\n",
       "      <td>INTERCITY</td>\n",
       "      <td>Flexible</td>\n",
       "      <td>TuristaSólo plaza H</td>\n",
       "      <td>55.40</td>\n",
       "    </tr>\n",
       "    <tr>\n",
       "      <th>143395</th>\n",
       "      <td>2019-08-17 03:22:19</td>\n",
       "      <td>2019-09-01 21:03:00</td>\n",
       "      <td>2019-09-01 23:28:00</td>\n",
       "      <td>VALENCIA</td>\n",
       "      <td>MADRID</td>\n",
       "      <td>INTERCITY</td>\n",
       "      <td>Flexible</td>\n",
       "      <td>Turista</td>\n",
       "      <td>NaN</td>\n",
       "    </tr>\n",
       "    <tr>\n",
       "      <th>159167</th>\n",
       "      <td>2019-05-16 13:12:07</td>\n",
       "      <td>2019-06-29 21:05:00</td>\n",
       "      <td>2019-06-29 23:32:00</td>\n",
       "      <td>VALENCIA</td>\n",
       "      <td>MADRID</td>\n",
       "      <td>INTERCITY</td>\n",
       "      <td>NaN</td>\n",
       "      <td>NaN</td>\n",
       "      <td>NaN</td>\n",
       "    </tr>\n",
       "    <tr>\n",
       "      <th>170659</th>\n",
       "      <td>2019-05-15 21:26:30</td>\n",
       "      <td>2019-06-23 21:05:00</td>\n",
       "      <td>2019-06-23 23:32:00</td>\n",
       "      <td>VALENCIA</td>\n",
       "      <td>MADRID</td>\n",
       "      <td>INTERCITY</td>\n",
       "      <td>NaN</td>\n",
       "      <td>NaN</td>\n",
       "      <td>NaN</td>\n",
       "    </tr>\n",
       "    <tr>\n",
       "      <th>191339</th>\n",
       "      <td>2019-08-18 17:34:03</td>\n",
       "      <td>2019-08-23 21:03:00</td>\n",
       "      <td>2019-08-23 23:28:00</td>\n",
       "      <td>VALENCIA</td>\n",
       "      <td>MADRID</td>\n",
       "      <td>INTERCITY</td>\n",
       "      <td>Flexible</td>\n",
       "      <td>Turista</td>\n",
       "      <td>55.40</td>\n",
       "    </tr>\n",
       "    <tr>\n",
       "      <th>235466</th>\n",
       "      <td>2019-06-18 23:16:29</td>\n",
       "      <td>2019-07-23 07:00:00</td>\n",
       "      <td>2019-07-23 14:25:00</td>\n",
       "      <td>MADRID</td>\n",
       "      <td>BARCELONA</td>\n",
       "      <td>LD-AVE</td>\n",
       "      <td>Promo</td>\n",
       "      <td>Turista Plus</td>\n",
       "      <td>NaN</td>\n",
       "    </tr>\n",
       "    <tr>\n",
       "      <th>241656</th>\n",
       "      <td>2019-05-14 03:01:42</td>\n",
       "      <td>2019-07-07 21:05:00</td>\n",
       "      <td>2019-07-07 23:32:00</td>\n",
       "      <td>VALENCIA</td>\n",
       "      <td>MADRID</td>\n",
       "      <td>INTERCITY</td>\n",
       "      <td>Promo</td>\n",
       "      <td>Turista</td>\n",
       "      <td>NaN</td>\n",
       "    </tr>\n",
       "    <tr>\n",
       "      <th>242549</th>\n",
       "      <td>2019-08-14 23:43:07</td>\n",
       "      <td>2019-09-01 11:28:00</td>\n",
       "      <td>2019-09-01 16:00:00</td>\n",
       "      <td>PONFERRADA</td>\n",
       "      <td>MADRID</td>\n",
       "      <td>LD</td>\n",
       "      <td>Flexible</td>\n",
       "      <td>Turista con enlace</td>\n",
       "      <td>NaN</td>\n",
       "    </tr>\n",
       "    <tr>\n",
       "      <th>245026</th>\n",
       "      <td>2019-05-13 03:23:34</td>\n",
       "      <td>2019-07-01 21:05:00</td>\n",
       "      <td>2019-07-01 23:32:00</td>\n",
       "      <td>VALENCIA</td>\n",
       "      <td>MADRID</td>\n",
       "      <td>INTERCITY</td>\n",
       "      <td>NaN</td>\n",
       "      <td>NaN</td>\n",
       "      <td>NaN</td>\n",
       "    </tr>\n",
       "    <tr>\n",
       "      <th>256887</th>\n",
       "      <td>2019-06-10 01:10:54</td>\n",
       "      <td>2019-07-07 21:03:00</td>\n",
       "      <td>2019-07-07 23:28:00</td>\n",
       "      <td>VALENCIA</td>\n",
       "      <td>MADRID</td>\n",
       "      <td>INTERCITY</td>\n",
       "      <td>Promo</td>\n",
       "      <td>Turista</td>\n",
       "      <td>43.75</td>\n",
       "    </tr>\n",
       "    <tr>\n",
       "      <th>263942</th>\n",
       "      <td>2019-04-21 08:08:16</td>\n",
       "      <td>2019-04-28 17:30:00</td>\n",
       "      <td>2019-04-28 19:43:00</td>\n",
       "      <td>VALENCIA</td>\n",
       "      <td>MADRID</td>\n",
       "      <td>INTERCITY</td>\n",
       "      <td>Flexible</td>\n",
       "      <td>Turista</td>\n",
       "      <td>55.40</td>\n",
       "    </tr>\n",
       "    <tr>\n",
       "      <th>274827</th>\n",
       "      <td>2019-06-17 21:00:29</td>\n",
       "      <td>2019-06-23 21:03:00</td>\n",
       "      <td>2019-06-23 23:28:00</td>\n",
       "      <td>VALENCIA</td>\n",
       "      <td>MADRID</td>\n",
       "      <td>INTERCITY</td>\n",
       "      <td>Flexible</td>\n",
       "      <td>TuristaSólo plaza H</td>\n",
       "      <td>55.40</td>\n",
       "    </tr>\n",
       "    <tr>\n",
       "      <th>279458</th>\n",
       "      <td>2019-04-27 17:08:49</td>\n",
       "      <td>2019-05-26 17:30:00</td>\n",
       "      <td>2019-05-26 19:43:00</td>\n",
       "      <td>VALENCIA</td>\n",
       "      <td>MADRID</td>\n",
       "      <td>INTERCITY</td>\n",
       "      <td>Promo</td>\n",
       "      <td>Turista</td>\n",
       "      <td>43.75</td>\n",
       "    </tr>\n",
       "    <tr>\n",
       "      <th>307296</th>\n",
       "      <td>2019-06-19 23:28:29</td>\n",
       "      <td>2019-06-23 21:03:00</td>\n",
       "      <td>2019-06-23 23:28:00</td>\n",
       "      <td>VALENCIA</td>\n",
       "      <td>MADRID</td>\n",
       "      <td>INTERCITY</td>\n",
       "      <td>Flexible</td>\n",
       "      <td>TuristaSólo plaza H</td>\n",
       "      <td>55.40</td>\n",
       "    </tr>\n",
       "    <tr>\n",
       "      <th>316991</th>\n",
       "      <td>2019-04-30 01:05:31</td>\n",
       "      <td>2019-05-11 07:00:00</td>\n",
       "      <td>2019-05-11 14:25:00</td>\n",
       "      <td>MADRID</td>\n",
       "      <td>BARCELONA</td>\n",
       "      <td>LD-AVE</td>\n",
       "      <td>Promo</td>\n",
       "      <td>Turista</td>\n",
       "      <td>NaN</td>\n",
       "    </tr>\n",
       "    <tr>\n",
       "      <th>328693</th>\n",
       "      <td>2019-04-19 09:10:48</td>\n",
       "      <td>2019-04-21 17:30:00</td>\n",
       "      <td>2019-04-21 19:43:00</td>\n",
       "      <td>VALENCIA</td>\n",
       "      <td>MADRID</td>\n",
       "      <td>INTERCITY</td>\n",
       "      <td>Flexible</td>\n",
       "      <td>Turista</td>\n",
       "      <td>NaN</td>\n",
       "    </tr>\n",
       "    <tr>\n",
       "      <th>346701</th>\n",
       "      <td>2019-04-29 23:03:20</td>\n",
       "      <td>2019-05-03 15:50:00</td>\n",
       "      <td>2019-05-03 23:52:00</td>\n",
       "      <td>BARCELONA</td>\n",
       "      <td>MADRID</td>\n",
       "      <td>AVE-LD</td>\n",
       "      <td>Flexible</td>\n",
       "      <td>Turista</td>\n",
       "      <td>NaN</td>\n",
       "    </tr>\n",
       "    <tr>\n",
       "      <th>352451</th>\n",
       "      <td>2019-05-03 05:33:32</td>\n",
       "      <td>2019-05-24 15:10:00</td>\n",
       "      <td>2019-05-24 17:20:00</td>\n",
       "      <td>MADRID</td>\n",
       "      <td>VALENCIA</td>\n",
       "      <td>INTERCITY</td>\n",
       "      <td>Promo</td>\n",
       "      <td>Turista</td>\n",
       "      <td>43.75</td>\n",
       "    </tr>\n",
       "    <tr>\n",
       "      <th>356200</th>\n",
       "      <td>2019-05-03 15:18:26</td>\n",
       "      <td>2019-05-24 15:10:00</td>\n",
       "      <td>2019-05-24 17:20:00</td>\n",
       "      <td>MADRID</td>\n",
       "      <td>VALENCIA</td>\n",
       "      <td>INTERCITY</td>\n",
       "      <td>Promo</td>\n",
       "      <td>Turista</td>\n",
       "      <td>43.75</td>\n",
       "    </tr>\n",
       "    <tr>\n",
       "      <th>376617</th>\n",
       "      <td>2019-05-17 15:22:08</td>\n",
       "      <td>2019-07-11 21:03:00</td>\n",
       "      <td>2019-07-11 23:28:00</td>\n",
       "      <td>VALENCIA</td>\n",
       "      <td>MADRID</td>\n",
       "      <td>INTERCITY</td>\n",
       "      <td>NaN</td>\n",
       "      <td>NaN</td>\n",
       "      <td>NaN</td>\n",
       "    </tr>\n",
       "    <tr>\n",
       "      <th>383408</th>\n",
       "      <td>2019-04-27 17:26:36</td>\n",
       "      <td>2019-04-30 15:10:00</td>\n",
       "      <td>2019-04-30 17:20:00</td>\n",
       "      <td>MADRID</td>\n",
       "      <td>VALENCIA</td>\n",
       "      <td>INTERCITY</td>\n",
       "      <td>Flexible</td>\n",
       "      <td>Turista</td>\n",
       "      <td>NaN</td>\n",
       "    </tr>\n",
       "  </tbody>\n",
       "</table>\n",
       "</div>\n",
       "      <button class=\"colab-df-convert\" onclick=\"convertToInteractive('df-5b09e63d-2374-49de-9543-b82708f5f4bb')\"\n",
       "              title=\"Convert this dataframe to an interactive table.\"\n",
       "              style=\"display:none;\">\n",
       "        \n",
       "  <svg xmlns=\"http://www.w3.org/2000/svg\" height=\"24px\"viewBox=\"0 0 24 24\"\n",
       "       width=\"24px\">\n",
       "    <path d=\"M0 0h24v24H0V0z\" fill=\"none\"/>\n",
       "    <path d=\"M18.56 5.44l.94 2.06.94-2.06 2.06-.94-2.06-.94-.94-2.06-.94 2.06-2.06.94zm-11 1L8.5 8.5l.94-2.06 2.06-.94-2.06-.94L8.5 2.5l-.94 2.06-2.06.94zm10 10l.94 2.06.94-2.06 2.06-.94-2.06-.94-.94-2.06-.94 2.06-2.06.94z\"/><path d=\"M17.41 7.96l-1.37-1.37c-.4-.4-.92-.59-1.43-.59-.52 0-1.04.2-1.43.59L10.3 9.45l-7.72 7.72c-.78.78-.78 2.05 0 2.83L4 21.41c.39.39.9.59 1.41.59.51 0 1.02-.2 1.41-.59l7.78-7.78 2.81-2.81c.8-.78.8-2.07 0-2.86zM5.41 20L4 18.59l7.72-7.72 1.47 1.35L5.41 20z\"/>\n",
       "  </svg>\n",
       "      </button>\n",
       "      \n",
       "  <style>\n",
       "    .colab-df-container {\n",
       "      display:flex;\n",
       "      flex-wrap:wrap;\n",
       "      gap: 12px;\n",
       "    }\n",
       "\n",
       "    .colab-df-convert {\n",
       "      background-color: #E8F0FE;\n",
       "      border: none;\n",
       "      border-radius: 50%;\n",
       "      cursor: pointer;\n",
       "      display: none;\n",
       "      fill: #1967D2;\n",
       "      height: 32px;\n",
       "      padding: 0 0 0 0;\n",
       "      width: 32px;\n",
       "    }\n",
       "\n",
       "    .colab-df-convert:hover {\n",
       "      background-color: #E2EBFA;\n",
       "      box-shadow: 0px 1px 2px rgba(60, 64, 67, 0.3), 0px 1px 3px 1px rgba(60, 64, 67, 0.15);\n",
       "      fill: #174EA6;\n",
       "    }\n",
       "\n",
       "    [theme=dark] .colab-df-convert {\n",
       "      background-color: #3B4455;\n",
       "      fill: #D2E3FC;\n",
       "    }\n",
       "\n",
       "    [theme=dark] .colab-df-convert:hover {\n",
       "      background-color: #434B5C;\n",
       "      box-shadow: 0px 1px 3px 1px rgba(0, 0, 0, 0.15);\n",
       "      filter: drop-shadow(0px 1px 2px rgba(0, 0, 0, 0.3));\n",
       "      fill: #FFFFFF;\n",
       "    }\n",
       "  </style>\n",
       "\n",
       "      <script>\n",
       "        const buttonEl =\n",
       "          document.querySelector('#df-5b09e63d-2374-49de-9543-b82708f5f4bb button.colab-df-convert');\n",
       "        buttonEl.style.display =\n",
       "          google.colab.kernel.accessAllowed ? 'block' : 'none';\n",
       "\n",
       "        async function convertToInteractive(key) {\n",
       "          const element = document.querySelector('#df-5b09e63d-2374-49de-9543-b82708f5f4bb');\n",
       "          const dataTable =\n",
       "            await google.colab.kernel.invokeFunction('convertToInteractive',\n",
       "                                                     [key], {});\n",
       "          if (!dataTable) return;\n",
       "\n",
       "          const docLinkHtml = 'Like what you see? Visit the ' +\n",
       "            '<a target=\"_blank\" href=https://colab.research.google.com/notebooks/data_table.ipynb>data table notebook</a>'\n",
       "            + ' to learn more about interactive tables.';\n",
       "          element.innerHTML = '';\n",
       "          dataTable['output_type'] = 'display_data';\n",
       "          await google.colab.output.renderOutput(dataTable, element);\n",
       "          const docLink = document.createElement('div');\n",
       "          docLink.innerHTML = docLinkHtml;\n",
       "          element.appendChild(docLink);\n",
       "        }\n",
       "      </script>\n",
       "    </div>\n",
       "  </div>\n",
       "  "
      ],
      "text/plain": [
       "            FECHA_CONSULTA        FECHA_INICIO           FECHA_FIN  \\\n",
       "67494  2019-04-29 23:15:13 2019-05-14 06:20:00 2019-05-14 14:25:00   \n",
       "82429  2019-04-30 09:09:51 2019-05-19 17:30:00 2019-05-19 19:43:00   \n",
       "88401  2019-05-15 23:37:01 2019-06-21 21:05:00 2019-06-21 23:32:00   \n",
       "107458 2019-06-12 11:51:44 2019-06-16 17:30:00 2019-06-16 19:43:00   \n",
       "143395 2019-08-17 03:22:19 2019-09-01 21:03:00 2019-09-01 23:28:00   \n",
       "159167 2019-05-16 13:12:07 2019-06-29 21:05:00 2019-06-29 23:32:00   \n",
       "170659 2019-05-15 21:26:30 2019-06-23 21:05:00 2019-06-23 23:32:00   \n",
       "191339 2019-08-18 17:34:03 2019-08-23 21:03:00 2019-08-23 23:28:00   \n",
       "235466 2019-06-18 23:16:29 2019-07-23 07:00:00 2019-07-23 14:25:00   \n",
       "241656 2019-05-14 03:01:42 2019-07-07 21:05:00 2019-07-07 23:32:00   \n",
       "242549 2019-08-14 23:43:07 2019-09-01 11:28:00 2019-09-01 16:00:00   \n",
       "245026 2019-05-13 03:23:34 2019-07-01 21:05:00 2019-07-01 23:32:00   \n",
       "256887 2019-06-10 01:10:54 2019-07-07 21:03:00 2019-07-07 23:28:00   \n",
       "263942 2019-04-21 08:08:16 2019-04-28 17:30:00 2019-04-28 19:43:00   \n",
       "274827 2019-06-17 21:00:29 2019-06-23 21:03:00 2019-06-23 23:28:00   \n",
       "279458 2019-04-27 17:08:49 2019-05-26 17:30:00 2019-05-26 19:43:00   \n",
       "307296 2019-06-19 23:28:29 2019-06-23 21:03:00 2019-06-23 23:28:00   \n",
       "316991 2019-04-30 01:05:31 2019-05-11 07:00:00 2019-05-11 14:25:00   \n",
       "328693 2019-04-19 09:10:48 2019-04-21 17:30:00 2019-04-21 19:43:00   \n",
       "346701 2019-04-29 23:03:20 2019-05-03 15:50:00 2019-05-03 23:52:00   \n",
       "352451 2019-05-03 05:33:32 2019-05-24 15:10:00 2019-05-24 17:20:00   \n",
       "356200 2019-05-03 15:18:26 2019-05-24 15:10:00 2019-05-24 17:20:00   \n",
       "376617 2019-05-17 15:22:08 2019-07-11 21:03:00 2019-07-11 23:28:00   \n",
       "383408 2019-04-27 17:26:36 2019-04-30 15:10:00 2019-04-30 17:20:00   \n",
       "\n",
       "       CIUDAD_ORIGEN CIUDAD_DESTINO  TIPO_TREN TIPO_TARIFA  \\\n",
       "67494         MADRID      BARCELONA     LD-AVE       Promo   \n",
       "82429       VALENCIA         MADRID  INTERCITY    Flexible   \n",
       "88401       VALENCIA         MADRID  INTERCITY         NaN   \n",
       "107458      VALENCIA         MADRID  INTERCITY    Flexible   \n",
       "143395      VALENCIA         MADRID  INTERCITY    Flexible   \n",
       "159167      VALENCIA         MADRID  INTERCITY         NaN   \n",
       "170659      VALENCIA         MADRID  INTERCITY         NaN   \n",
       "191339      VALENCIA         MADRID  INTERCITY    Flexible   \n",
       "235466        MADRID      BARCELONA     LD-AVE       Promo   \n",
       "241656      VALENCIA         MADRID  INTERCITY       Promo   \n",
       "242549    PONFERRADA         MADRID         LD    Flexible   \n",
       "245026      VALENCIA         MADRID  INTERCITY         NaN   \n",
       "256887      VALENCIA         MADRID  INTERCITY       Promo   \n",
       "263942      VALENCIA         MADRID  INTERCITY    Flexible   \n",
       "274827      VALENCIA         MADRID  INTERCITY    Flexible   \n",
       "279458      VALENCIA         MADRID  INTERCITY       Promo   \n",
       "307296      VALENCIA         MADRID  INTERCITY    Flexible   \n",
       "316991        MADRID      BARCELONA     LD-AVE       Promo   \n",
       "328693      VALENCIA         MADRID  INTERCITY    Flexible   \n",
       "346701     BARCELONA         MADRID     AVE-LD    Flexible   \n",
       "352451        MADRID       VALENCIA  INTERCITY       Promo   \n",
       "356200        MADRID       VALENCIA  INTERCITY       Promo   \n",
       "376617      VALENCIA         MADRID  INTERCITY         NaN   \n",
       "383408        MADRID       VALENCIA  INTERCITY    Flexible   \n",
       "\n",
       "                      CLASE  PRECIO  \n",
       "67494               Turista     NaN  \n",
       "82429               Turista   55.40  \n",
       "88401                   NaN     NaN  \n",
       "107458  TuristaSólo plaza H   55.40  \n",
       "143395              Turista     NaN  \n",
       "159167                  NaN     NaN  \n",
       "170659                  NaN     NaN  \n",
       "191339              Turista   55.40  \n",
       "235466         Turista Plus     NaN  \n",
       "241656              Turista     NaN  \n",
       "242549   Turista con enlace     NaN  \n",
       "245026                  NaN     NaN  \n",
       "256887              Turista   43.75  \n",
       "263942              Turista   55.40  \n",
       "274827  TuristaSólo plaza H   55.40  \n",
       "279458              Turista   43.75  \n",
       "307296  TuristaSólo plaza H   55.40  \n",
       "316991              Turista     NaN  \n",
       "328693              Turista     NaN  \n",
       "346701              Turista     NaN  \n",
       "352451              Turista   43.75  \n",
       "356200              Turista   43.75  \n",
       "376617                  NaN     NaN  \n",
       "383408              Turista     NaN  "
      ]
     },
     "execution_count": 17,
     "metadata": {},
     "output_type": "execute_result"
    }
   ],
   "source": [
    "df_renfe1[df_renfe1.duplicated()]"
   ]
  },
  {
   "cell_type": "code",
   "execution_count": 18,
   "metadata": {
    "colab": {
     "base_uri": "https://localhost:8080/"
    },
    "id": "p0R21NNC-r3L",
    "outputId": "9c0f7ad8-4b60-4571-868c-761eba083751"
   },
   "outputs": [
    {
     "data": {
      "text/plain": [
       "24"
      ]
     },
     "execution_count": 18,
     "metadata": {},
     "output_type": "execute_result"
    }
   ],
   "source": [
    "len(df_renfe1[df_renfe1.duplicated()])"
   ]
  },
  {
   "cell_type": "code",
   "execution_count": 19,
   "metadata": {
    "id": "mzlS1ypU_Xhg"
   },
   "outputs": [],
   "source": [
    "df_renfe2= df_renfe1.copy()"
   ]
  },
  {
   "cell_type": "code",
   "execution_count": 20,
   "metadata": {
    "id": "hu8Uvm58_dou"
   },
   "outputs": [],
   "source": [
    "df_renfe2.drop_duplicates(inplace=True)"
   ]
  },
  {
   "cell_type": "code",
   "execution_count": 21,
   "metadata": {
    "colab": {
     "base_uri": "https://localhost:8080/"
    },
    "id": "Bv1uAp3T_dl_",
    "outputId": "c1e71ed6-216d-452f-d379-7917f3a854b9"
   },
   "outputs": [
    {
     "name": "stdout",
     "output_type": "stream",
     "text": [
      "<class 'pandas.core.frame.DataFrame'>\n",
      "Int64Index: 383544 entries, 0 to 383567\n",
      "Data columns (total 9 columns):\n",
      " #   Column          Non-Null Count   Dtype         \n",
      "---  ------          --------------   -----         \n",
      " 0   FECHA_CONSULTA  383544 non-null  datetime64[ns]\n",
      " 1   FECHA_INICIO    383544 non-null  datetime64[ns]\n",
      " 2   FECHA_FIN       383544 non-null  datetime64[ns]\n",
      " 3   CIUDAD_ORIGEN   383544 non-null  object        \n",
      " 4   CIUDAD_DESTINO  383544 non-null  object        \n",
      " 5   TIPO_TREN       345187 non-null  object        \n",
      " 6   TIPO_TARIFA     343990 non-null  object        \n",
      " 7   CLASE           343981 non-null  object        \n",
      " 8   PRECIO          355028 non-null  float64       \n",
      "dtypes: datetime64[ns](3), float64(1), object(5)\n",
      "memory usage: 29.3+ MB\n"
     ]
    }
   ],
   "source": [
    "df_renfe2.info()"
   ]
  },
  {
   "cell_type": "code",
   "execution_count": 22,
   "metadata": {
    "colab": {
     "base_uri": "https://localhost:8080/"
    },
    "id": "biL38fTy_x_n",
    "outputId": "c1f3e039-fe02-4262-bb5f-d9c2e0541087"
   },
   "outputs": [
    {
     "data": {
      "text/plain": [
       "0"
      ]
     },
     "execution_count": 22,
     "metadata": {},
     "output_type": "execute_result"
    }
   ],
   "source": [
    "len(df_renfe2[df_renfe2.duplicated()])"
   ]
  },
  {
   "cell_type": "code",
   "execution_count": 23,
   "metadata": {
    "id": "ogfc6X1pkIBV"
   },
   "outputs": [],
   "source": [
    "#PREGUNTA 4"
   ]
  },
  {
   "cell_type": "code",
   "execution_count": 24,
   "metadata": {
    "id": "Wl8z1RR-kH0K"
   },
   "outputs": [],
   "source": [
    "# a) Tiempo_Viaje: variable que me indica en minutos la duración del viaje"
   ]
  },
  {
   "cell_type": "code",
   "execution_count": 25,
   "metadata": {
    "id": "vDIO4Ah2AaP_"
   },
   "outputs": [],
   "source": [
    "df_renfe2[\"Tiempo_Viaje\"]= (df_renfe2[\"FECHA_FIN\"]- df_renfe2[\"FECHA_INICIO\"]) / np.timedelta64(1,\"m\")"
   ]
  },
  {
   "cell_type": "code",
   "execution_count": 26,
   "metadata": {
    "colab": {
     "base_uri": "https://localhost:8080/",
     "height": 250
    },
    "id": "zQxQVEl1Br6t",
    "outputId": "4f1aa1bd-72d8-4a44-dcdf-341acbe5abf7"
   },
   "outputs": [
    {
     "data": {
      "text/html": [
       "\n",
       "  <div id=\"df-d82521cd-5145-4084-b627-453f27ebabe5\">\n",
       "    <div class=\"colab-df-container\">\n",
       "      <div>\n",
       "<style scoped>\n",
       "    .dataframe tbody tr th:only-of-type {\n",
       "        vertical-align: middle;\n",
       "    }\n",
       "\n",
       "    .dataframe tbody tr th {\n",
       "        vertical-align: top;\n",
       "    }\n",
       "\n",
       "    .dataframe thead th {\n",
       "        text-align: right;\n",
       "    }\n",
       "</style>\n",
       "<table border=\"1\" class=\"dataframe\">\n",
       "  <thead>\n",
       "    <tr style=\"text-align: right;\">\n",
       "      <th></th>\n",
       "      <th>FECHA_CONSULTA</th>\n",
       "      <th>FECHA_INICIO</th>\n",
       "      <th>FECHA_FIN</th>\n",
       "      <th>CIUDAD_ORIGEN</th>\n",
       "      <th>CIUDAD_DESTINO</th>\n",
       "      <th>TIPO_TREN</th>\n",
       "      <th>TIPO_TARIFA</th>\n",
       "      <th>CLASE</th>\n",
       "      <th>PRECIO</th>\n",
       "      <th>Tiempo_Viaje</th>\n",
       "    </tr>\n",
       "  </thead>\n",
       "  <tbody>\n",
       "    <tr>\n",
       "      <th>0</th>\n",
       "      <td>2019-05-25 01:43:03</td>\n",
       "      <td>2019-06-28 20:36:00</td>\n",
       "      <td>2019-06-28 23:14:00</td>\n",
       "      <td>SEVILLA</td>\n",
       "      <td>MADRID</td>\n",
       "      <td>ALVIA</td>\n",
       "      <td>Flexible</td>\n",
       "      <td>Turista</td>\n",
       "      <td>67.20</td>\n",
       "      <td>158.0</td>\n",
       "    </tr>\n",
       "    <tr>\n",
       "      <th>1</th>\n",
       "      <td>2019-06-22 13:05:11</td>\n",
       "      <td>2019-07-14 10:00:00</td>\n",
       "      <td>2019-07-14 13:10:00</td>\n",
       "      <td>BARCELONA</td>\n",
       "      <td>MADRID</td>\n",
       "      <td>AVE</td>\n",
       "      <td>Flexible</td>\n",
       "      <td>Turista</td>\n",
       "      <td>107.70</td>\n",
       "      <td>190.0</td>\n",
       "    </tr>\n",
       "    <tr>\n",
       "      <th>2</th>\n",
       "      <td>2019-04-17 06:24:03</td>\n",
       "      <td>2019-05-23 13:40:00</td>\n",
       "      <td>2019-05-23 16:10:00</td>\n",
       "      <td>SEVILLA</td>\n",
       "      <td>MADRID</td>\n",
       "      <td>AVE</td>\n",
       "      <td>Promo</td>\n",
       "      <td>Turista</td>\n",
       "      <td>47.30</td>\n",
       "      <td>150.0</td>\n",
       "    </tr>\n",
       "    <tr>\n",
       "      <th>3</th>\n",
       "      <td>2019-05-10 21:21:59</td>\n",
       "      <td>2019-05-29 14:50:00</td>\n",
       "      <td>2019-05-29 22:30:00</td>\n",
       "      <td>VALENCIA</td>\n",
       "      <td>MADRID</td>\n",
       "      <td>REGIONAL</td>\n",
       "      <td>Adulto ida</td>\n",
       "      <td>Turista</td>\n",
       "      <td>28.35</td>\n",
       "      <td>460.0</td>\n",
       "    </tr>\n",
       "    <tr>\n",
       "      <th>4</th>\n",
       "      <td>2019-05-09 19:43:37</td>\n",
       "      <td>2019-06-26 13:25:00</td>\n",
       "      <td>2019-06-26 16:24:00</td>\n",
       "      <td>MADRID</td>\n",
       "      <td>BARCELONA</td>\n",
       "      <td>AVE-TGV</td>\n",
       "      <td>Promo</td>\n",
       "      <td>Turista</td>\n",
       "      <td>66.75</td>\n",
       "      <td>179.0</td>\n",
       "    </tr>\n",
       "  </tbody>\n",
       "</table>\n",
       "</div>\n",
       "      <button class=\"colab-df-convert\" onclick=\"convertToInteractive('df-d82521cd-5145-4084-b627-453f27ebabe5')\"\n",
       "              title=\"Convert this dataframe to an interactive table.\"\n",
       "              style=\"display:none;\">\n",
       "        \n",
       "  <svg xmlns=\"http://www.w3.org/2000/svg\" height=\"24px\"viewBox=\"0 0 24 24\"\n",
       "       width=\"24px\">\n",
       "    <path d=\"M0 0h24v24H0V0z\" fill=\"none\"/>\n",
       "    <path d=\"M18.56 5.44l.94 2.06.94-2.06 2.06-.94-2.06-.94-.94-2.06-.94 2.06-2.06.94zm-11 1L8.5 8.5l.94-2.06 2.06-.94-2.06-.94L8.5 2.5l-.94 2.06-2.06.94zm10 10l.94 2.06.94-2.06 2.06-.94-2.06-.94-.94-2.06-.94 2.06-2.06.94z\"/><path d=\"M17.41 7.96l-1.37-1.37c-.4-.4-.92-.59-1.43-.59-.52 0-1.04.2-1.43.59L10.3 9.45l-7.72 7.72c-.78.78-.78 2.05 0 2.83L4 21.41c.39.39.9.59 1.41.59.51 0 1.02-.2 1.41-.59l7.78-7.78 2.81-2.81c.8-.78.8-2.07 0-2.86zM5.41 20L4 18.59l7.72-7.72 1.47 1.35L5.41 20z\"/>\n",
       "  </svg>\n",
       "      </button>\n",
       "      \n",
       "  <style>\n",
       "    .colab-df-container {\n",
       "      display:flex;\n",
       "      flex-wrap:wrap;\n",
       "      gap: 12px;\n",
       "    }\n",
       "\n",
       "    .colab-df-convert {\n",
       "      background-color: #E8F0FE;\n",
       "      border: none;\n",
       "      border-radius: 50%;\n",
       "      cursor: pointer;\n",
       "      display: none;\n",
       "      fill: #1967D2;\n",
       "      height: 32px;\n",
       "      padding: 0 0 0 0;\n",
       "      width: 32px;\n",
       "    }\n",
       "\n",
       "    .colab-df-convert:hover {\n",
       "      background-color: #E2EBFA;\n",
       "      box-shadow: 0px 1px 2px rgba(60, 64, 67, 0.3), 0px 1px 3px 1px rgba(60, 64, 67, 0.15);\n",
       "      fill: #174EA6;\n",
       "    }\n",
       "\n",
       "    [theme=dark] .colab-df-convert {\n",
       "      background-color: #3B4455;\n",
       "      fill: #D2E3FC;\n",
       "    }\n",
       "\n",
       "    [theme=dark] .colab-df-convert:hover {\n",
       "      background-color: #434B5C;\n",
       "      box-shadow: 0px 1px 3px 1px rgba(0, 0, 0, 0.15);\n",
       "      filter: drop-shadow(0px 1px 2px rgba(0, 0, 0, 0.3));\n",
       "      fill: #FFFFFF;\n",
       "    }\n",
       "  </style>\n",
       "\n",
       "      <script>\n",
       "        const buttonEl =\n",
       "          document.querySelector('#df-d82521cd-5145-4084-b627-453f27ebabe5 button.colab-df-convert');\n",
       "        buttonEl.style.display =\n",
       "          google.colab.kernel.accessAllowed ? 'block' : 'none';\n",
       "\n",
       "        async function convertToInteractive(key) {\n",
       "          const element = document.querySelector('#df-d82521cd-5145-4084-b627-453f27ebabe5');\n",
       "          const dataTable =\n",
       "            await google.colab.kernel.invokeFunction('convertToInteractive',\n",
       "                                                     [key], {});\n",
       "          if (!dataTable) return;\n",
       "\n",
       "          const docLinkHtml = 'Like what you see? Visit the ' +\n",
       "            '<a target=\"_blank\" href=https://colab.research.google.com/notebooks/data_table.ipynb>data table notebook</a>'\n",
       "            + ' to learn more about interactive tables.';\n",
       "          element.innerHTML = '';\n",
       "          dataTable['output_type'] = 'display_data';\n",
       "          await google.colab.output.renderOutput(dataTable, element);\n",
       "          const docLink = document.createElement('div');\n",
       "          docLink.innerHTML = docLinkHtml;\n",
       "          element.appendChild(docLink);\n",
       "        }\n",
       "      </script>\n",
       "    </div>\n",
       "  </div>\n",
       "  "
      ],
      "text/plain": [
       "       FECHA_CONSULTA        FECHA_INICIO           FECHA_FIN CIUDAD_ORIGEN  \\\n",
       "0 2019-05-25 01:43:03 2019-06-28 20:36:00 2019-06-28 23:14:00       SEVILLA   \n",
       "1 2019-06-22 13:05:11 2019-07-14 10:00:00 2019-07-14 13:10:00     BARCELONA   \n",
       "2 2019-04-17 06:24:03 2019-05-23 13:40:00 2019-05-23 16:10:00       SEVILLA   \n",
       "3 2019-05-10 21:21:59 2019-05-29 14:50:00 2019-05-29 22:30:00      VALENCIA   \n",
       "4 2019-05-09 19:43:37 2019-06-26 13:25:00 2019-06-26 16:24:00        MADRID   \n",
       "\n",
       "  CIUDAD_DESTINO TIPO_TREN TIPO_TARIFA    CLASE  PRECIO  Tiempo_Viaje  \n",
       "0         MADRID     ALVIA    Flexible  Turista   67.20         158.0  \n",
       "1         MADRID       AVE    Flexible  Turista  107.70         190.0  \n",
       "2         MADRID       AVE       Promo  Turista   47.30         150.0  \n",
       "3         MADRID  REGIONAL  Adulto ida  Turista   28.35         460.0  \n",
       "4      BARCELONA   AVE-TGV       Promo  Turista   66.75         179.0  "
      ]
     },
     "execution_count": 26,
     "metadata": {},
     "output_type": "execute_result"
    }
   ],
   "source": [
    "df_renfe2.head()"
   ]
  },
  {
   "cell_type": "code",
   "execution_count": 27,
   "metadata": {
    "id": "-__JWQBYATZ5"
   },
   "outputs": [],
   "source": [
    "# b) Dif_Ini_Bus: variable que me indica en minutos la diferencia entre la fecha de inicio de viaje y la fecha de búsqueda"
   ]
  },
  {
   "cell_type": "code",
   "execution_count": 28,
   "metadata": {
    "id": "O42BDMC0CQNd"
   },
   "outputs": [],
   "source": [
    "df_renfe2[\"Dif_Ini_Bus\"]= (df_renfe2[\"FECHA_INICIO\"]- df_renfe2[\"FECHA_CONSULTA\"]) / np.timedelta64(1,\"m\")"
   ]
  },
  {
   "cell_type": "code",
   "execution_count": 29,
   "metadata": {
    "colab": {
     "base_uri": "https://localhost:8080/",
     "height": 337
    },
    "id": "YABGhQh0CFOt",
    "outputId": "46fe35a1-1578-44f9-d1f3-359146934e8b"
   },
   "outputs": [
    {
     "data": {
      "text/html": [
       "\n",
       "  <div id=\"df-2f272c6b-8e4e-40bc-8fb6-dcf01eecd213\">\n",
       "    <div class=\"colab-df-container\">\n",
       "      <div>\n",
       "<style scoped>\n",
       "    .dataframe tbody tr th:only-of-type {\n",
       "        vertical-align: middle;\n",
       "    }\n",
       "\n",
       "    .dataframe tbody tr th {\n",
       "        vertical-align: top;\n",
       "    }\n",
       "\n",
       "    .dataframe thead th {\n",
       "        text-align: right;\n",
       "    }\n",
       "</style>\n",
       "<table border=\"1\" class=\"dataframe\">\n",
       "  <thead>\n",
       "    <tr style=\"text-align: right;\">\n",
       "      <th></th>\n",
       "      <th>FECHA_CONSULTA</th>\n",
       "      <th>FECHA_INICIO</th>\n",
       "      <th>FECHA_FIN</th>\n",
       "      <th>CIUDAD_ORIGEN</th>\n",
       "      <th>CIUDAD_DESTINO</th>\n",
       "      <th>TIPO_TREN</th>\n",
       "      <th>TIPO_TARIFA</th>\n",
       "      <th>CLASE</th>\n",
       "      <th>PRECIO</th>\n",
       "      <th>Tiempo_Viaje</th>\n",
       "      <th>Dif_Ini_Bus</th>\n",
       "    </tr>\n",
       "  </thead>\n",
       "  <tbody>\n",
       "    <tr>\n",
       "      <th>0</th>\n",
       "      <td>2019-05-25 01:43:03</td>\n",
       "      <td>2019-06-28 20:36:00</td>\n",
       "      <td>2019-06-28 23:14:00</td>\n",
       "      <td>SEVILLA</td>\n",
       "      <td>MADRID</td>\n",
       "      <td>ALVIA</td>\n",
       "      <td>Flexible</td>\n",
       "      <td>Turista</td>\n",
       "      <td>67.20</td>\n",
       "      <td>158.0</td>\n",
       "      <td>50092.950000</td>\n",
       "    </tr>\n",
       "    <tr>\n",
       "      <th>1</th>\n",
       "      <td>2019-06-22 13:05:11</td>\n",
       "      <td>2019-07-14 10:00:00</td>\n",
       "      <td>2019-07-14 13:10:00</td>\n",
       "      <td>BARCELONA</td>\n",
       "      <td>MADRID</td>\n",
       "      <td>AVE</td>\n",
       "      <td>Flexible</td>\n",
       "      <td>Turista</td>\n",
       "      <td>107.70</td>\n",
       "      <td>190.0</td>\n",
       "      <td>31494.816667</td>\n",
       "    </tr>\n",
       "    <tr>\n",
       "      <th>2</th>\n",
       "      <td>2019-04-17 06:24:03</td>\n",
       "      <td>2019-05-23 13:40:00</td>\n",
       "      <td>2019-05-23 16:10:00</td>\n",
       "      <td>SEVILLA</td>\n",
       "      <td>MADRID</td>\n",
       "      <td>AVE</td>\n",
       "      <td>Promo</td>\n",
       "      <td>Turista</td>\n",
       "      <td>47.30</td>\n",
       "      <td>150.0</td>\n",
       "      <td>52275.950000</td>\n",
       "    </tr>\n",
       "    <tr>\n",
       "      <th>3</th>\n",
       "      <td>2019-05-10 21:21:59</td>\n",
       "      <td>2019-05-29 14:50:00</td>\n",
       "      <td>2019-05-29 22:30:00</td>\n",
       "      <td>VALENCIA</td>\n",
       "      <td>MADRID</td>\n",
       "      <td>REGIONAL</td>\n",
       "      <td>Adulto ida</td>\n",
       "      <td>Turista</td>\n",
       "      <td>28.35</td>\n",
       "      <td>460.0</td>\n",
       "      <td>26968.016667</td>\n",
       "    </tr>\n",
       "    <tr>\n",
       "      <th>4</th>\n",
       "      <td>2019-05-09 19:43:37</td>\n",
       "      <td>2019-06-26 13:25:00</td>\n",
       "      <td>2019-06-26 16:24:00</td>\n",
       "      <td>MADRID</td>\n",
       "      <td>BARCELONA</td>\n",
       "      <td>AVE-TGV</td>\n",
       "      <td>Promo</td>\n",
       "      <td>Turista</td>\n",
       "      <td>66.75</td>\n",
       "      <td>179.0</td>\n",
       "      <td>68741.383333</td>\n",
       "    </tr>\n",
       "  </tbody>\n",
       "</table>\n",
       "</div>\n",
       "      <button class=\"colab-df-convert\" onclick=\"convertToInteractive('df-2f272c6b-8e4e-40bc-8fb6-dcf01eecd213')\"\n",
       "              title=\"Convert this dataframe to an interactive table.\"\n",
       "              style=\"display:none;\">\n",
       "        \n",
       "  <svg xmlns=\"http://www.w3.org/2000/svg\" height=\"24px\"viewBox=\"0 0 24 24\"\n",
       "       width=\"24px\">\n",
       "    <path d=\"M0 0h24v24H0V0z\" fill=\"none\"/>\n",
       "    <path d=\"M18.56 5.44l.94 2.06.94-2.06 2.06-.94-2.06-.94-.94-2.06-.94 2.06-2.06.94zm-11 1L8.5 8.5l.94-2.06 2.06-.94-2.06-.94L8.5 2.5l-.94 2.06-2.06.94zm10 10l.94 2.06.94-2.06 2.06-.94-2.06-.94-.94-2.06-.94 2.06-2.06.94z\"/><path d=\"M17.41 7.96l-1.37-1.37c-.4-.4-.92-.59-1.43-.59-.52 0-1.04.2-1.43.59L10.3 9.45l-7.72 7.72c-.78.78-.78 2.05 0 2.83L4 21.41c.39.39.9.59 1.41.59.51 0 1.02-.2 1.41-.59l7.78-7.78 2.81-2.81c.8-.78.8-2.07 0-2.86zM5.41 20L4 18.59l7.72-7.72 1.47 1.35L5.41 20z\"/>\n",
       "  </svg>\n",
       "      </button>\n",
       "      \n",
       "  <style>\n",
       "    .colab-df-container {\n",
       "      display:flex;\n",
       "      flex-wrap:wrap;\n",
       "      gap: 12px;\n",
       "    }\n",
       "\n",
       "    .colab-df-convert {\n",
       "      background-color: #E8F0FE;\n",
       "      border: none;\n",
       "      border-radius: 50%;\n",
       "      cursor: pointer;\n",
       "      display: none;\n",
       "      fill: #1967D2;\n",
       "      height: 32px;\n",
       "      padding: 0 0 0 0;\n",
       "      width: 32px;\n",
       "    }\n",
       "\n",
       "    .colab-df-convert:hover {\n",
       "      background-color: #E2EBFA;\n",
       "      box-shadow: 0px 1px 2px rgba(60, 64, 67, 0.3), 0px 1px 3px 1px rgba(60, 64, 67, 0.15);\n",
       "      fill: #174EA6;\n",
       "    }\n",
       "\n",
       "    [theme=dark] .colab-df-convert {\n",
       "      background-color: #3B4455;\n",
       "      fill: #D2E3FC;\n",
       "    }\n",
       "\n",
       "    [theme=dark] .colab-df-convert:hover {\n",
       "      background-color: #434B5C;\n",
       "      box-shadow: 0px 1px 3px 1px rgba(0, 0, 0, 0.15);\n",
       "      filter: drop-shadow(0px 1px 2px rgba(0, 0, 0, 0.3));\n",
       "      fill: #FFFFFF;\n",
       "    }\n",
       "  </style>\n",
       "\n",
       "      <script>\n",
       "        const buttonEl =\n",
       "          document.querySelector('#df-2f272c6b-8e4e-40bc-8fb6-dcf01eecd213 button.colab-df-convert');\n",
       "        buttonEl.style.display =\n",
       "          google.colab.kernel.accessAllowed ? 'block' : 'none';\n",
       "\n",
       "        async function convertToInteractive(key) {\n",
       "          const element = document.querySelector('#df-2f272c6b-8e4e-40bc-8fb6-dcf01eecd213');\n",
       "          const dataTable =\n",
       "            await google.colab.kernel.invokeFunction('convertToInteractive',\n",
       "                                                     [key], {});\n",
       "          if (!dataTable) return;\n",
       "\n",
       "          const docLinkHtml = 'Like what you see? Visit the ' +\n",
       "            '<a target=\"_blank\" href=https://colab.research.google.com/notebooks/data_table.ipynb>data table notebook</a>'\n",
       "            + ' to learn more about interactive tables.';\n",
       "          element.innerHTML = '';\n",
       "          dataTable['output_type'] = 'display_data';\n",
       "          await google.colab.output.renderOutput(dataTable, element);\n",
       "          const docLink = document.createElement('div');\n",
       "          docLink.innerHTML = docLinkHtml;\n",
       "          element.appendChild(docLink);\n",
       "        }\n",
       "      </script>\n",
       "    </div>\n",
       "  </div>\n",
       "  "
      ],
      "text/plain": [
       "       FECHA_CONSULTA        FECHA_INICIO           FECHA_FIN CIUDAD_ORIGEN  \\\n",
       "0 2019-05-25 01:43:03 2019-06-28 20:36:00 2019-06-28 23:14:00       SEVILLA   \n",
       "1 2019-06-22 13:05:11 2019-07-14 10:00:00 2019-07-14 13:10:00     BARCELONA   \n",
       "2 2019-04-17 06:24:03 2019-05-23 13:40:00 2019-05-23 16:10:00       SEVILLA   \n",
       "3 2019-05-10 21:21:59 2019-05-29 14:50:00 2019-05-29 22:30:00      VALENCIA   \n",
       "4 2019-05-09 19:43:37 2019-06-26 13:25:00 2019-06-26 16:24:00        MADRID   \n",
       "\n",
       "  CIUDAD_DESTINO TIPO_TREN TIPO_TARIFA    CLASE  PRECIO  Tiempo_Viaje  \\\n",
       "0         MADRID     ALVIA    Flexible  Turista   67.20         158.0   \n",
       "1         MADRID       AVE    Flexible  Turista  107.70         190.0   \n",
       "2         MADRID       AVE       Promo  Turista   47.30         150.0   \n",
       "3         MADRID  REGIONAL  Adulto ida  Turista   28.35         460.0   \n",
       "4      BARCELONA   AVE-TGV       Promo  Turista   66.75         179.0   \n",
       "\n",
       "    Dif_Ini_Bus  \n",
       "0  50092.950000  \n",
       "1  31494.816667  \n",
       "2  52275.950000  \n",
       "3  26968.016667  \n",
       "4  68741.383333  "
      ]
     },
     "execution_count": 29,
     "metadata": {},
     "output_type": "execute_result"
    }
   ],
   "source": [
    "df_renfe2.head()"
   ]
  },
  {
   "cell_type": "code",
   "execution_count": 30,
   "metadata": {
    "id": "6M7vRI_9kHoI"
   },
   "outputs": [],
   "source": [
    "#PREGUNTA 5"
   ]
  },
  {
   "cell_type": "code",
   "execution_count": 31,
   "metadata": {
    "id": "ieOzzPdpERYT"
   },
   "outputs": [],
   "source": [
    "df_renfe3= df_renfe2.copy()"
   ]
  },
  {
   "cell_type": "code",
   "execution_count": 32,
   "metadata": {
    "colab": {
     "base_uri": "https://localhost:8080/",
     "height": 299
    },
    "id": "YOsJXQjCkHUB",
    "outputId": "3835274a-7ffa-49e2-9efa-0251843f3c10"
   },
   "outputs": [
    {
     "data": {
      "text/html": [
       "\n",
       "  <div id=\"df-fd5a06f3-a344-4d1d-87c1-fa184c401144\">\n",
       "    <div class=\"colab-df-container\">\n",
       "      <div>\n",
       "<style scoped>\n",
       "    .dataframe tbody tr th:only-of-type {\n",
       "        vertical-align: middle;\n",
       "    }\n",
       "\n",
       "    .dataframe tbody tr th {\n",
       "        vertical-align: top;\n",
       "    }\n",
       "\n",
       "    .dataframe thead th {\n",
       "        text-align: right;\n",
       "    }\n",
       "</style>\n",
       "<table border=\"1\" class=\"dataframe\">\n",
       "  <thead>\n",
       "    <tr style=\"text-align: right;\">\n",
       "      <th></th>\n",
       "      <th>CIUDAD_ORIGEN</th>\n",
       "      <th>CIUDAD_DESTINO</th>\n",
       "      <th>TIPO_TREN</th>\n",
       "      <th>TIPO_TARIFA</th>\n",
       "      <th>CLASE</th>\n",
       "      <th>PRECIO</th>\n",
       "      <th>Tiempo_Viaje</th>\n",
       "      <th>Dif_Ini_Bus</th>\n",
       "      <th>FECHA_CONSULTA_HORA</th>\n",
       "      <th>FECHA_CONSULTA_NOMBREDIA</th>\n",
       "      <th>...</th>\n",
       "      <th>FECHA_INICIO_HORA</th>\n",
       "      <th>FECHA_INICIO_NOMBREDIA</th>\n",
       "      <th>FECHA_INICIO_DIA</th>\n",
       "      <th>FECHA_INICIO_MES</th>\n",
       "      <th>FECHA_INICIO_AÑO</th>\n",
       "      <th>FECHA_FIN_HORA</th>\n",
       "      <th>FECHA_FIN_NOMBREDIA</th>\n",
       "      <th>FECHA_FIN_DIA</th>\n",
       "      <th>FECHA_FIN_MES</th>\n",
       "      <th>FECHA_FIN_AÑO</th>\n",
       "    </tr>\n",
       "  </thead>\n",
       "  <tbody>\n",
       "    <tr>\n",
       "      <th>0</th>\n",
       "      <td>SEVILLA</td>\n",
       "      <td>MADRID</td>\n",
       "      <td>ALVIA</td>\n",
       "      <td>Flexible</td>\n",
       "      <td>Turista</td>\n",
       "      <td>67.20</td>\n",
       "      <td>158.0</td>\n",
       "      <td>50092.950000</td>\n",
       "      <td>1</td>\n",
       "      <td>Saturday</td>\n",
       "      <td>...</td>\n",
       "      <td>20</td>\n",
       "      <td>Friday</td>\n",
       "      <td>28</td>\n",
       "      <td>6</td>\n",
       "      <td>2019</td>\n",
       "      <td>23</td>\n",
       "      <td>Friday</td>\n",
       "      <td>28</td>\n",
       "      <td>6</td>\n",
       "      <td>2019</td>\n",
       "    </tr>\n",
       "    <tr>\n",
       "      <th>1</th>\n",
       "      <td>BARCELONA</td>\n",
       "      <td>MADRID</td>\n",
       "      <td>AVE</td>\n",
       "      <td>Flexible</td>\n",
       "      <td>Turista</td>\n",
       "      <td>107.70</td>\n",
       "      <td>190.0</td>\n",
       "      <td>31494.816667</td>\n",
       "      <td>13</td>\n",
       "      <td>Saturday</td>\n",
       "      <td>...</td>\n",
       "      <td>10</td>\n",
       "      <td>Sunday</td>\n",
       "      <td>14</td>\n",
       "      <td>7</td>\n",
       "      <td>2019</td>\n",
       "      <td>13</td>\n",
       "      <td>Sunday</td>\n",
       "      <td>14</td>\n",
       "      <td>7</td>\n",
       "      <td>2019</td>\n",
       "    </tr>\n",
       "    <tr>\n",
       "      <th>2</th>\n",
       "      <td>SEVILLA</td>\n",
       "      <td>MADRID</td>\n",
       "      <td>AVE</td>\n",
       "      <td>Promo</td>\n",
       "      <td>Turista</td>\n",
       "      <td>47.30</td>\n",
       "      <td>150.0</td>\n",
       "      <td>52275.950000</td>\n",
       "      <td>6</td>\n",
       "      <td>Wednesday</td>\n",
       "      <td>...</td>\n",
       "      <td>13</td>\n",
       "      <td>Thursday</td>\n",
       "      <td>23</td>\n",
       "      <td>5</td>\n",
       "      <td>2019</td>\n",
       "      <td>16</td>\n",
       "      <td>Thursday</td>\n",
       "      <td>23</td>\n",
       "      <td>5</td>\n",
       "      <td>2019</td>\n",
       "    </tr>\n",
       "    <tr>\n",
       "      <th>3</th>\n",
       "      <td>VALENCIA</td>\n",
       "      <td>MADRID</td>\n",
       "      <td>REGIONAL</td>\n",
       "      <td>Adulto ida</td>\n",
       "      <td>Turista</td>\n",
       "      <td>28.35</td>\n",
       "      <td>460.0</td>\n",
       "      <td>26968.016667</td>\n",
       "      <td>21</td>\n",
       "      <td>Friday</td>\n",
       "      <td>...</td>\n",
       "      <td>14</td>\n",
       "      <td>Wednesday</td>\n",
       "      <td>29</td>\n",
       "      <td>5</td>\n",
       "      <td>2019</td>\n",
       "      <td>22</td>\n",
       "      <td>Wednesday</td>\n",
       "      <td>29</td>\n",
       "      <td>5</td>\n",
       "      <td>2019</td>\n",
       "    </tr>\n",
       "    <tr>\n",
       "      <th>4</th>\n",
       "      <td>MADRID</td>\n",
       "      <td>BARCELONA</td>\n",
       "      <td>AVE-TGV</td>\n",
       "      <td>Promo</td>\n",
       "      <td>Turista</td>\n",
       "      <td>66.75</td>\n",
       "      <td>179.0</td>\n",
       "      <td>68741.383333</td>\n",
       "      <td>19</td>\n",
       "      <td>Thursday</td>\n",
       "      <td>...</td>\n",
       "      <td>13</td>\n",
       "      <td>Wednesday</td>\n",
       "      <td>26</td>\n",
       "      <td>6</td>\n",
       "      <td>2019</td>\n",
       "      <td>16</td>\n",
       "      <td>Wednesday</td>\n",
       "      <td>26</td>\n",
       "      <td>6</td>\n",
       "      <td>2019</td>\n",
       "    </tr>\n",
       "  </tbody>\n",
       "</table>\n",
       "<p>5 rows × 23 columns</p>\n",
       "</div>\n",
       "      <button class=\"colab-df-convert\" onclick=\"convertToInteractive('df-fd5a06f3-a344-4d1d-87c1-fa184c401144')\"\n",
       "              title=\"Convert this dataframe to an interactive table.\"\n",
       "              style=\"display:none;\">\n",
       "        \n",
       "  <svg xmlns=\"http://www.w3.org/2000/svg\" height=\"24px\"viewBox=\"0 0 24 24\"\n",
       "       width=\"24px\">\n",
       "    <path d=\"M0 0h24v24H0V0z\" fill=\"none\"/>\n",
       "    <path d=\"M18.56 5.44l.94 2.06.94-2.06 2.06-.94-2.06-.94-.94-2.06-.94 2.06-2.06.94zm-11 1L8.5 8.5l.94-2.06 2.06-.94-2.06-.94L8.5 2.5l-.94 2.06-2.06.94zm10 10l.94 2.06.94-2.06 2.06-.94-2.06-.94-.94-2.06-.94 2.06-2.06.94z\"/><path d=\"M17.41 7.96l-1.37-1.37c-.4-.4-.92-.59-1.43-.59-.52 0-1.04.2-1.43.59L10.3 9.45l-7.72 7.72c-.78.78-.78 2.05 0 2.83L4 21.41c.39.39.9.59 1.41.59.51 0 1.02-.2 1.41-.59l7.78-7.78 2.81-2.81c.8-.78.8-2.07 0-2.86zM5.41 20L4 18.59l7.72-7.72 1.47 1.35L5.41 20z\"/>\n",
       "  </svg>\n",
       "      </button>\n",
       "      \n",
       "  <style>\n",
       "    .colab-df-container {\n",
       "      display:flex;\n",
       "      flex-wrap:wrap;\n",
       "      gap: 12px;\n",
       "    }\n",
       "\n",
       "    .colab-df-convert {\n",
       "      background-color: #E8F0FE;\n",
       "      border: none;\n",
       "      border-radius: 50%;\n",
       "      cursor: pointer;\n",
       "      display: none;\n",
       "      fill: #1967D2;\n",
       "      height: 32px;\n",
       "      padding: 0 0 0 0;\n",
       "      width: 32px;\n",
       "    }\n",
       "\n",
       "    .colab-df-convert:hover {\n",
       "      background-color: #E2EBFA;\n",
       "      box-shadow: 0px 1px 2px rgba(60, 64, 67, 0.3), 0px 1px 3px 1px rgba(60, 64, 67, 0.15);\n",
       "      fill: #174EA6;\n",
       "    }\n",
       "\n",
       "    [theme=dark] .colab-df-convert {\n",
       "      background-color: #3B4455;\n",
       "      fill: #D2E3FC;\n",
       "    }\n",
       "\n",
       "    [theme=dark] .colab-df-convert:hover {\n",
       "      background-color: #434B5C;\n",
       "      box-shadow: 0px 1px 3px 1px rgba(0, 0, 0, 0.15);\n",
       "      filter: drop-shadow(0px 1px 2px rgba(0, 0, 0, 0.3));\n",
       "      fill: #FFFFFF;\n",
       "    }\n",
       "  </style>\n",
       "\n",
       "      <script>\n",
       "        const buttonEl =\n",
       "          document.querySelector('#df-fd5a06f3-a344-4d1d-87c1-fa184c401144 button.colab-df-convert');\n",
       "        buttonEl.style.display =\n",
       "          google.colab.kernel.accessAllowed ? 'block' : 'none';\n",
       "\n",
       "        async function convertToInteractive(key) {\n",
       "          const element = document.querySelector('#df-fd5a06f3-a344-4d1d-87c1-fa184c401144');\n",
       "          const dataTable =\n",
       "            await google.colab.kernel.invokeFunction('convertToInteractive',\n",
       "                                                     [key], {});\n",
       "          if (!dataTable) return;\n",
       "\n",
       "          const docLinkHtml = 'Like what you see? Visit the ' +\n",
       "            '<a target=\"_blank\" href=https://colab.research.google.com/notebooks/data_table.ipynb>data table notebook</a>'\n",
       "            + ' to learn more about interactive tables.';\n",
       "          element.innerHTML = '';\n",
       "          dataTable['output_type'] = 'display_data';\n",
       "          await google.colab.output.renderOutput(dataTable, element);\n",
       "          const docLink = document.createElement('div');\n",
       "          docLink.innerHTML = docLinkHtml;\n",
       "          element.appendChild(docLink);\n",
       "        }\n",
       "      </script>\n",
       "    </div>\n",
       "  </div>\n",
       "  "
      ],
      "text/plain": [
       "  CIUDAD_ORIGEN CIUDAD_DESTINO TIPO_TREN TIPO_TARIFA    CLASE  PRECIO  \\\n",
       "0       SEVILLA         MADRID     ALVIA    Flexible  Turista   67.20   \n",
       "1     BARCELONA         MADRID       AVE    Flexible  Turista  107.70   \n",
       "2       SEVILLA         MADRID       AVE       Promo  Turista   47.30   \n",
       "3      VALENCIA         MADRID  REGIONAL  Adulto ida  Turista   28.35   \n",
       "4        MADRID      BARCELONA   AVE-TGV       Promo  Turista   66.75   \n",
       "\n",
       "   Tiempo_Viaje   Dif_Ini_Bus  FECHA_CONSULTA_HORA FECHA_CONSULTA_NOMBREDIA  \\\n",
       "0         158.0  50092.950000                    1                 Saturday   \n",
       "1         190.0  31494.816667                   13                 Saturday   \n",
       "2         150.0  52275.950000                    6                Wednesday   \n",
       "3         460.0  26968.016667                   21                   Friday   \n",
       "4         179.0  68741.383333                   19                 Thursday   \n",
       "\n",
       "   ...  FECHA_INICIO_HORA  FECHA_INICIO_NOMBREDIA  FECHA_INICIO_DIA  \\\n",
       "0  ...                 20                  Friday                28   \n",
       "1  ...                 10                  Sunday                14   \n",
       "2  ...                 13                Thursday                23   \n",
       "3  ...                 14               Wednesday                29   \n",
       "4  ...                 13               Wednesday                26   \n",
       "\n",
       "   FECHA_INICIO_MES FECHA_INICIO_AÑO  FECHA_FIN_HORA  FECHA_FIN_NOMBREDIA  \\\n",
       "0                 6             2019              23               Friday   \n",
       "1                 7             2019              13               Sunday   \n",
       "2                 5             2019              16             Thursday   \n",
       "3                 5             2019              22            Wednesday   \n",
       "4                 6             2019              16            Wednesday   \n",
       "\n",
       "   FECHA_FIN_DIA  FECHA_FIN_MES FECHA_FIN_AÑO  \n",
       "0             28              6          2019  \n",
       "1             14              7          2019  \n",
       "2             23              5          2019  \n",
       "3             29              5          2019  \n",
       "4             26              6          2019  \n",
       "\n",
       "[5 rows x 23 columns]"
      ]
     },
     "execution_count": 32,
     "metadata": {},
     "output_type": "execute_result"
    }
   ],
   "source": [
    "for col in ['FECHA_CONSULTA', 'FECHA_INICIO', 'FECHA_FIN']:\n",
    "    df_renfe3[col + '_HORA'] = df_renfe3[col].dt.hour\n",
    "    df_renfe3[col + '_NOMBREDIA'] = df_renfe3[col].dt.day_name()\n",
    "    df_renfe3[col + '_DIA'] = df_renfe3[col].dt.day\n",
    "    df_renfe3[col + '_MES'] = df_renfe3[col].dt.month\n",
    "    df_renfe3[col + '_AÑO'] = df_renfe3[col].dt.year\n",
    "\n",
    "\n",
    "    del df_renfe3[col]\n",
    "\n",
    "df_renfe3.head()"
   ]
  },
  {
   "cell_type": "code",
   "execution_count": 33,
   "metadata": {
    "id": "pnbQfMXNndy2"
   },
   "outputs": [],
   "source": [
    "#PREGUNTA 6"
   ]
  },
  {
   "cell_type": "code",
   "execution_count": 34,
   "metadata": {
    "colab": {
     "base_uri": "https://localhost:8080/"
    },
    "id": "WeLxjP0Ondy3",
    "outputId": "abfc6842-25c8-4207-bc76-fa5581d38250"
   },
   "outputs": [
    {
     "data": {
      "text/plain": [
       "CIUDAD_ORIGEN                   0\n",
       "CIUDAD_DESTINO                  0\n",
       "TIPO_TREN                   38357\n",
       "TIPO_TARIFA                 39554\n",
       "CLASE                       39563\n",
       "PRECIO                      28516\n",
       "Tiempo_Viaje                    0\n",
       "Dif_Ini_Bus                     0\n",
       "FECHA_CONSULTA_HORA             0\n",
       "FECHA_CONSULTA_NOMBREDIA        0\n",
       "FECHA_CONSULTA_DIA              0\n",
       "FECHA_CONSULTA_MES              0\n",
       "FECHA_CONSULTA_AÑO              0\n",
       "FECHA_INICIO_HORA               0\n",
       "FECHA_INICIO_NOMBREDIA          0\n",
       "FECHA_INICIO_DIA                0\n",
       "FECHA_INICIO_MES                0\n",
       "FECHA_INICIO_AÑO                0\n",
       "FECHA_FIN_HORA                  0\n",
       "FECHA_FIN_NOMBREDIA             0\n",
       "FECHA_FIN_DIA                   0\n",
       "FECHA_FIN_MES                   0\n",
       "FECHA_FIN_AÑO                   0\n",
       "dtype: int64"
      ]
     },
     "execution_count": 34,
     "metadata": {},
     "output_type": "execute_result"
    }
   ],
   "source": [
    "df_renfe3.isnull().sum()"
   ]
  },
  {
   "cell_type": "code",
   "execution_count": 35,
   "metadata": {
    "colab": {
     "base_uri": "https://localhost:8080/"
    },
    "id": "W1aRX7cQFAzS",
    "outputId": "a410c536-46dd-4d42-a076-f2490b5feb94"
   },
   "outputs": [
    {
     "data": {
      "text/plain": [
       "28516"
      ]
     },
     "execution_count": 35,
     "metadata": {},
     "output_type": "execute_result"
    }
   ],
   "source": [
    "df_renfe3[\"PRECIO\"].isnull().sum()"
   ]
  },
  {
   "cell_type": "code",
   "execution_count": 36,
   "metadata": {
    "colab": {
     "base_uri": "https://localhost:8080/"
    },
    "id": "HtO5Ped6Fy07",
    "outputId": "37e436a0-1b4d-423f-9f12-598c86628518"
   },
   "outputs": [
    {
     "data": {
      "text/plain": [
       "383544"
      ]
     },
     "execution_count": 36,
     "metadata": {},
     "output_type": "execute_result"
    }
   ],
   "source": [
    "len(df_renfe3)"
   ]
  },
  {
   "cell_type": "code",
   "execution_count": 37,
   "metadata": {
    "colab": {
     "base_uri": "https://localhost:8080/"
    },
    "id": "rNDsSPOIFZw5",
    "outputId": "17fc7834-b376-4979-9e43-4f2e56953d91"
   },
   "outputs": [
    {
     "data": {
      "text/plain": [
       "7.434870575475043"
      ]
     },
     "execution_count": 37,
     "metadata": {},
     "output_type": "execute_result"
    }
   ],
   "source": [
    "(df_renfe3[\"PRECIO\"].isnull().sum() / len(df_renfe3)) *100"
   ]
  },
  {
   "cell_type": "code",
   "execution_count": 38,
   "metadata": {
    "id": "I0dMoZH9uY90"
   },
   "outputs": [],
   "source": [
    "#PREGUNTA 7"
   ]
  },
  {
   "cell_type": "code",
   "execution_count": 39,
   "metadata": {
    "colab": {
     "base_uri": "https://localhost:8080/"
    },
    "id": "ZtFggwlZndy3",
    "outputId": "ba3ed8b9-2d38-46e6-eb34-1e54c6d33b14"
   },
   "outputs": [
    {
     "data": {
      "text/plain": [
       "AVE          236293\n",
       "ALVIA         27231\n",
       "INTERCITY     17827\n",
       "REGIONAL      16817\n",
       "AV City        9754\n",
       "MD-LD          7475\n",
       "LD             5905\n",
       "AVE-TGV        4593\n",
       "R. EXPRES      4165\n",
       "TRENHOTEL      3956\n",
       "AVE-LD         3505\n",
       "AVE-MD         2955\n",
       "LD-MD          2793\n",
       "MD-AVE          871\n",
       "MD              548\n",
       "LD-AVE          499\n",
       "Name: TIPO_TREN, dtype: int64"
      ]
     },
     "execution_count": 39,
     "metadata": {},
     "output_type": "execute_result"
    }
   ],
   "source": [
    "df_renfe3[\"TIPO_TREN\"].value_counts()"
   ]
  },
  {
   "cell_type": "code",
   "execution_count": 40,
   "metadata": {
    "colab": {
     "base_uri": "https://localhost:8080/"
    },
    "id": "mtRTsyBkIcPg",
    "outputId": "f0c23e84-0245-44bb-a1e8-63c55dd5c899"
   },
   "outputs": [
    {
     "data": {
      "text/plain": [
       "Promo                      239839\n",
       "Flexible                    74133\n",
       "Adulto ida                  21624\n",
       "Promo +                      8222\n",
       "COD.PROMOCIONAL               148\n",
       "Individual-Flexible            11\n",
       "Mesa                            8\n",
       "Doble Familiar-Flexible         3\n",
       "4x100                           1\n",
       "Grupos Ida                      1\n",
       "Name: TIPO_TARIFA, dtype: int64"
      ]
     },
     "execution_count": 40,
     "metadata": {},
     "output_type": "execute_result"
    }
   ],
   "source": [
    "df_renfe3[\"TIPO_TARIFA\"].value_counts()"
   ]
  },
  {
   "cell_type": "code",
   "execution_count": 41,
   "metadata": {
    "colab": {
     "base_uri": "https://localhost:8080/"
    },
    "id": "hu6suXCoIdMo",
    "outputId": "a59d9f4a-e9af-4eba-bbce-b691f7b82015"
   },
   "outputs": [
    {
     "data": {
      "text/plain": [
       "Turista                     261731\n",
       "Preferente                   33963\n",
       "Turista Plus                 24347\n",
       "Turista con enlace           20866\n",
       "TuristaSólo plaza H           2477\n",
       "PreferenteSólo plaza H         317\n",
       "Cama Turista                   263\n",
       "Cama G. Clase                   15\n",
       "Turista PlusSólo plaza H         2\n",
       "Name: CLASE, dtype: int64"
      ]
     },
     "execution_count": 41,
     "metadata": {},
     "output_type": "execute_result"
    }
   ],
   "source": [
    "df_renfe3[\"CLASE\"].value_counts()"
   ]
  },
  {
   "cell_type": "code",
   "execution_count": 42,
   "metadata": {
    "id": "Zv9BXDiwNewV"
   },
   "outputs": [],
   "source": [
    "df_renfe4= df_renfe3.copy()"
   ]
  },
  {
   "cell_type": "code",
   "execution_count": 43,
   "metadata": {
    "id": "O4RqFHOrOomT"
   },
   "outputs": [],
   "source": [
    "df_renfe4.dropna(subset=[\"PRECIO\"], inplace=True)"
   ]
  },
  {
   "cell_type": "code",
   "execution_count": 44,
   "metadata": {
    "colab": {
     "base_uri": "https://localhost:8080/"
    },
    "id": "vG-Zh0s2PO0v",
    "outputId": "68a5d348-c8ef-4024-abda-2c9bdb8edb28"
   },
   "outputs": [
    {
     "data": {
      "text/plain": [
       "CIUDAD_ORIGEN                   0\n",
       "CIUDAD_DESTINO                  0\n",
       "TIPO_TREN                   35443\n",
       "TIPO_TARIFA                 35453\n",
       "CLASE                       35554\n",
       "PRECIO                          0\n",
       "Tiempo_Viaje                    0\n",
       "Dif_Ini_Bus                     0\n",
       "FECHA_CONSULTA_HORA             0\n",
       "FECHA_CONSULTA_NOMBREDIA        0\n",
       "FECHA_CONSULTA_DIA              0\n",
       "FECHA_CONSULTA_MES              0\n",
       "FECHA_CONSULTA_AÑO              0\n",
       "FECHA_INICIO_HORA               0\n",
       "FECHA_INICIO_NOMBREDIA          0\n",
       "FECHA_INICIO_DIA                0\n",
       "FECHA_INICIO_MES                0\n",
       "FECHA_INICIO_AÑO                0\n",
       "FECHA_FIN_HORA                  0\n",
       "FECHA_FIN_NOMBREDIA             0\n",
       "FECHA_FIN_DIA                   0\n",
       "FECHA_FIN_MES                   0\n",
       "FECHA_FIN_AÑO                   0\n",
       "dtype: int64"
      ]
     },
     "execution_count": 44,
     "metadata": {},
     "output_type": "execute_result"
    }
   ],
   "source": [
    "df_renfe4.isnull().sum()"
   ]
  },
  {
   "cell_type": "code",
   "execution_count": 45,
   "metadata": {
    "colab": {
     "base_uri": "https://localhost:8080/"
    },
    "id": "E5PXikRJLij1",
    "outputId": "e32effaa-d6bd-4a3c-c76a-82da06759480"
   },
   "outputs": [
    {
     "data": {
      "text/plain": [
       "3580"
      ]
     },
     "execution_count": 45,
     "metadata": {},
     "output_type": "execute_result"
    }
   ],
   "source": [
    "len(np.where(df_renfe4[\"TIPO_TARIFA\"].isnull() & df_renfe4[\"TIPO_TREN\"].isnull())[0])"
   ]
  },
  {
   "cell_type": "code",
   "execution_count": 46,
   "metadata": {
    "colab": {
     "base_uri": "https://localhost:8080/"
    },
    "id": "f6ANBe37OoJH",
    "outputId": "73254aba-f9ce-4f5c-b080-87772ce6587b"
   },
   "outputs": [
    {
     "data": {
      "text/plain": [
       "3573"
      ]
     },
     "execution_count": 46,
     "metadata": {},
     "output_type": "execute_result"
    }
   ],
   "source": [
    "len(np.where(df_renfe4[\"CLASE\"].isnull() & df_renfe4[\"TIPO_TREN\"].isnull())[0])"
   ]
  },
  {
   "cell_type": "code",
   "execution_count": 47,
   "metadata": {
    "colab": {
     "base_uri": "https://localhost:8080/"
    },
    "id": "Cic28JN1QaXc",
    "outputId": "8472f237-3d30-4474-a9c9-4f92277bbf92"
   },
   "outputs": [
    {
     "data": {
      "text/plain": [
       "3677"
      ]
     },
     "execution_count": 47,
     "metadata": {},
     "output_type": "execute_result"
    }
   ],
   "source": [
    "len(np.where(df_renfe4[\"TIPO_TARIFA\"].isnull() & df_renfe4[\"CLASE\"].isnull())[0])"
   ]
  },
  {
   "cell_type": "code",
   "execution_count": 48,
   "metadata": {
    "colab": {
     "base_uri": "https://localhost:8080/"
    },
    "id": "Jtn_MmAFQkr0",
    "outputId": "b0d3f206-9a22-4b31-ed81-d4389eaa8d31"
   },
   "outputs": [
    {
     "data": {
      "text/plain": [
       "355"
      ]
     },
     "execution_count": 48,
     "metadata": {},
     "output_type": "execute_result"
    }
   ],
   "source": [
    "len(np.where(df_renfe4[\"TIPO_TARIFA\"].isnull() & df_renfe4[\"TIPO_TREN\"].isnull() & df_renfe4[\"CLASE\"].isnull())[0])"
   ]
  },
  {
   "cell_type": "code",
   "execution_count": 49,
   "metadata": {
    "id": "rR0fZxwUWgWU"
   },
   "outputs": [],
   "source": [
    "df_renfe4.drop(df_renfe4[df_renfe4[\"TIPO_TARIFA\"].isnull() & df_renfe4[\"TIPO_TREN\"].isnull()].index, inplace=True)"
   ]
  },
  {
   "cell_type": "code",
   "execution_count": 50,
   "metadata": {
    "id": "lSWK0WddYFL3"
   },
   "outputs": [],
   "source": [
    "df_renfe4.drop(df_renfe4[df_renfe4[\"CLASE\"].isnull() & df_renfe4[\"TIPO_TREN\"].isnull()].index, inplace=True)"
   ]
  },
  {
   "cell_type": "code",
   "execution_count": 51,
   "metadata": {
    "id": "QQKAeS2iYSXz"
   },
   "outputs": [],
   "source": [
    "df_renfe4.drop(df_renfe4[df_renfe4[\"TIPO_TARIFA\"].isnull() & df_renfe4[\"CLASE\"].isnull()].index, inplace=True)"
   ]
  },
  {
   "cell_type": "code",
   "execution_count": 52,
   "metadata": {
    "id": "FLLpyyS7YcFP"
   },
   "outputs": [],
   "source": [
    "df_renfe4.drop(df_renfe4[df_renfe4[\"TIPO_TARIFA\"].isnull() & df_renfe4[\"TIPO_TREN\"].isnull() & df_renfe4[\"CLASE\"].isnull() ].index, inplace=True)"
   ]
  },
  {
   "cell_type": "code",
   "execution_count": 53,
   "metadata": {
    "colab": {
     "base_uri": "https://localhost:8080/"
    },
    "id": "_gCzrGJPYrzS",
    "outputId": "4efaef03-fc8d-4cd5-a41d-4234fdea47fe"
   },
   "outputs": [
    {
     "data": {
      "text/plain": [
       "CIUDAD_ORIGEN                   0\n",
       "CIUDAD_DESTINO                  0\n",
       "TIPO_TREN                   28645\n",
       "TIPO_TARIFA                 28551\n",
       "CLASE                       28659\n",
       "PRECIO                          0\n",
       "Tiempo_Viaje                    0\n",
       "Dif_Ini_Bus                     0\n",
       "FECHA_CONSULTA_HORA             0\n",
       "FECHA_CONSULTA_NOMBREDIA        0\n",
       "FECHA_CONSULTA_DIA              0\n",
       "FECHA_CONSULTA_MES              0\n",
       "FECHA_CONSULTA_AÑO              0\n",
       "FECHA_INICIO_HORA               0\n",
       "FECHA_INICIO_NOMBREDIA          0\n",
       "FECHA_INICIO_DIA                0\n",
       "FECHA_INICIO_MES                0\n",
       "FECHA_INICIO_AÑO                0\n",
       "FECHA_FIN_HORA                  0\n",
       "FECHA_FIN_NOMBREDIA             0\n",
       "FECHA_FIN_DIA                   0\n",
       "FECHA_FIN_MES                   0\n",
       "FECHA_FIN_AÑO                   0\n",
       "dtype: int64"
      ]
     },
     "execution_count": 53,
     "metadata": {},
     "output_type": "execute_result"
    }
   ],
   "source": [
    "df_renfe4.isnull().sum()"
   ]
  },
  {
   "cell_type": "code",
   "execution_count": 54,
   "metadata": {
    "id": "1xjAfttraxSS"
   },
   "outputs": [],
   "source": [
    "df_renfe4[\"TIPO_TREN\"].fillna(\"SIN TIPO\",inplace=True)"
   ]
  },
  {
   "cell_type": "code",
   "execution_count": 55,
   "metadata": {
    "id": "Vj1o_F-YbBvd"
   },
   "outputs": [],
   "source": [
    "df_renfe4[\"TIPO_TARIFA\"].fillna(\"SIN TIPO\",inplace=True)"
   ]
  },
  {
   "cell_type": "code",
   "execution_count": 56,
   "metadata": {
    "id": "L0TauxcObJH6"
   },
   "outputs": [],
   "source": [
    "df_renfe4[\"CLASE\"].fillna(\"SIN CLASE\",inplace=True)"
   ]
  },
  {
   "cell_type": "code",
   "execution_count": 57,
   "metadata": {
    "colab": {
     "base_uri": "https://localhost:8080/"
    },
    "id": "8ofVIfhObN1C",
    "outputId": "a9e8a82e-a6b0-4f9b-82c6-990b2254bb28"
   },
   "outputs": [
    {
     "data": {
      "text/plain": [
       "CIUDAD_ORIGEN               0\n",
       "CIUDAD_DESTINO              0\n",
       "TIPO_TREN                   0\n",
       "TIPO_TARIFA                 0\n",
       "CLASE                       0\n",
       "PRECIO                      0\n",
       "Tiempo_Viaje                0\n",
       "Dif_Ini_Bus                 0\n",
       "FECHA_CONSULTA_HORA         0\n",
       "FECHA_CONSULTA_NOMBREDIA    0\n",
       "FECHA_CONSULTA_DIA          0\n",
       "FECHA_CONSULTA_MES          0\n",
       "FECHA_CONSULTA_AÑO          0\n",
       "FECHA_INICIO_HORA           0\n",
       "FECHA_INICIO_NOMBREDIA      0\n",
       "FECHA_INICIO_DIA            0\n",
       "FECHA_INICIO_MES            0\n",
       "FECHA_INICIO_AÑO            0\n",
       "FECHA_FIN_HORA              0\n",
       "FECHA_FIN_NOMBREDIA         0\n",
       "FECHA_FIN_DIA               0\n",
       "FECHA_FIN_MES               0\n",
       "FECHA_FIN_AÑO               0\n",
       "dtype: int64"
      ]
     },
     "execution_count": 57,
     "metadata": {},
     "output_type": "execute_result"
    }
   ],
   "source": [
    "df_renfe4.isnull().sum()"
   ]
  },
  {
   "cell_type": "code",
   "execution_count": 58,
   "metadata": {
    "id": "PEWSK1_SoG0D"
   },
   "outputs": [],
   "source": [
    "#PREGUNTA 8"
   ]
  },
  {
   "cell_type": "code",
   "execution_count": 59,
   "metadata": {
    "id": "IjS2PXVindy4"
   },
   "outputs": [],
   "source": [
    "df_renfe5= df_renfe4.copy()"
   ]
  },
  {
   "cell_type": "code",
   "execution_count": 60,
   "metadata": {
    "colab": {
     "base_uri": "https://localhost:8080/",
     "height": 469
    },
    "id": "ist-PVUfcT2q",
    "outputId": "c566559a-52dc-49d5-fe0b-1ee7f436b32f"
   },
   "outputs": [
    {
     "data": {
      "text/plain": [
       "array([[<Axes: title={'center': 'PRECIO'}>]], dtype=object)"
      ]
     },
     "execution_count": 60,
     "metadata": {},
     "output_type": "execute_result"
    },
    {
     "data": {
      "image/png": "[encoded data removed]",
      "text/plain": [
       "<Figure size 640x480 with 1 Axes>"
      ]
     },
     "metadata": {},
     "output_type": "display_data"
    }
   ],
   "source": [
    "df_renfe5.hist(\"PRECIO\")"
   ]
  },
  {
   "cell_type": "code",
   "execution_count": 61,
   "metadata": {
    "colab": {
     "base_uri": "https://localhost:8080/",
     "height": 469
    },
    "id": "zZOU1m_fcyod",
    "outputId": "a6ef13a6-0a2c-4fdc-e6f8-4d4fe7ac53b6"
   },
   "outputs": [
    {
     "data": {
      "text/plain": [
       "array([[<Axes: title={'center': 'Tiempo_Viaje'}>]], dtype=object)"
      ]
     },
     "execution_count": 61,
     "metadata": {},
     "output_type": "execute_result"
    },
    {
     "data": {
      "image/png": "[encoded data removed]",
      "text/plain": [
       "<Figure size 640x480 with 1 Axes>"
      ]
     },
     "metadata": {},
     "output_type": "display_data"
    }
   ],
   "source": [
    "df_renfe5.hist(\"Tiempo_Viaje\")"
   ]
  },
  {
   "cell_type": "code",
   "execution_count": 62,
   "metadata": {
    "colab": {
     "base_uri": "https://localhost:8080/",
     "height": 469
    },
    "id": "_5VS4164c_Hj",
    "outputId": "a6c6a567-41f3-45c5-a094-ba26fe5b787c"
   },
   "outputs": [
    {
     "data": {
      "text/plain": [
       "array([[<Axes: title={'center': 'Dif_Ini_Bus'}>]], dtype=object)"
      ]
     },
     "execution_count": 62,
     "metadata": {},
     "output_type": "execute_result"
    },
    {
     "data": {
      "image/png": "[encoded data removed]",
      "text/plain": [
       "<Figure size 640x480 with 1 Axes>"
      ]
     },
     "metadata": {},
     "output_type": "display_data"
    }
   ],
   "source": [
    "df_renfe5.hist(\"Dif_Ini_Bus\")"
   ]
  },
  {
   "cell_type": "code",
   "execution_count": 63,
   "metadata": {
    "colab": {
     "base_uri": "https://localhost:8080/",
     "height": 1000
    },
    "id": "acsPaqpzeb9g",
    "outputId": "52d64be4-2530-4cfe-811f-7e70d17bde88"
   },
   "outputs": [
    {
     "data": {
      "image/png": "[encoded data removed]",
      "text/plain": [
       "<Figure size 640x480 with 1 Axes>"
      ]
     },
     "metadata": {},
     "output_type": "display_data"
    },
    {
     "data": {
      "image/png": "[encoded data removed]",
      "text/plain": [
       "<Figure size 640x480 with 1 Axes>"
      ]
     },
     "metadata": {},
     "output_type": "display_data"
    },
    {
     "data": {
      "image/png": "[encoded data removed]",
      "text/plain": [
       "<Figure size 640x480 with 1 Axes>"
      ]
     },
     "metadata": {},
     "output_type": "display_data"
    },
    {
     "data": {
      "image/png": "[encoded data removed]",
      "text/plain": [
       "<Figure size 640x480 with 1 Axes>"
      ]
     },
     "metadata": {},
     "output_type": "display_data"
    },
    {
     "data": {
      "image/png": "[encoded data removed]",
      "text/plain": [
       "<Figure size 640x480 with 1 Axes>"
      ]
     },
     "metadata": {},
     "output_type": "display_data"
    },
    {
     "data": {
      "image/png": "[encoded data removed]",
      "text/plain": [
       "<Figure size 640x480 with 1 Axes>"
      ]
     },
     "metadata": {},
     "output_type": "display_data"
    },
    {
     "data": {
      "image/png": "[encoded data removed]",
      "text/plain": [
       "<Figure size 640x480 with 1 Axes>"
      ]
     },
     "metadata": {},
     "output_type": "display_data"
    },
    {
     "data": {
      "image/png": "[encoded data removed]",
      "text/plain": [
       "<Figure size 640x480 with 1 Axes>"
      ]
     },
     "metadata": {},
     "output_type": "display_data"
    },
    {
     "data": {
      "image/png": "[encoded data removed]",
      "text/plain": [
       "<Figure size 640x480 with 1 Axes>"
      ]
     },
     "metadata": {},
     "output_type": "display_data"
    },
    {
     "data": {
      "image/png": "[encoded data removed]",
      "text/plain": [
       "<Figure size 640x480 with 1 Axes>"
      ]
     },
     "metadata": {},
     "output_type": "display_data"
    },
    {
     "data": {
      "image/png": "[encoded data removed]",
      "text/plain": [
       "<Figure size 640x480 with 1 Axes>"
      ]
     },
     "metadata": {},
     "output_type": "display_data"
    },
    {
     "data": {
      "image/png": "[encoded data removed]",
      "text/plain": [
       "<Figure size 640x480 with 1 Axes>"
      ]
     },
     "metadata": {},
     "output_type": "display_data"
    },
    {
     "data": {
      "image/png": "[encoded data removed]",
      "text/plain": [
       "<Figure size 640x480 with 1 Axes>"
      ]
     },
     "metadata": {},
     "output_type": "display_data"
    },
    {
     "data": {
      "image/png": "[encoded data removed]",
      "text/plain": [
       "<Figure size 640x480 with 1 Axes>"
      ]
     },
     "metadata": {},
     "output_type": "display_data"
    },
    {
     "data": {
      "image/png": "[encoded data removed]",
      "text/plain": [
       "<Figure size 640x480 with 1 Axes>"
      ]
     },
     "metadata": {},
     "output_type": "display_data"
    }
   ],
   "source": [
    "for i in df_renfe5.columns:\n",
    "  try:\n",
    "   df_renfe5.hist(i)\n",
    "  except:\n",
    "    pass\n",
    "\n"
   ]
  },
  {
   "cell_type": "code",
   "execution_count": 64,
   "metadata": {
    "colab": {
     "base_uri": "https://localhost:8080/",
     "height": 539
    },
    "id": "maWFWFmowxh_",
    "outputId": "6827b5de-653e-48cb-8c88-d787d2976ef7"
   },
   "outputs": [
    {
     "data": {
      "text/html": [
       "\n",
       "  <div id=\"df-2a36d81b-6e0b-4314-ac58-0d431f5c1b62\">\n",
       "    <div class=\"colab-df-container\">\n",
       "      <div>\n",
       "<style scoped>\n",
       "    .dataframe tbody tr th:only-of-type {\n",
       "        vertical-align: middle;\n",
       "    }\n",
       "\n",
       "    .dataframe tbody tr th {\n",
       "        vertical-align: top;\n",
       "    }\n",
       "\n",
       "    .dataframe thead th {\n",
       "        text-align: right;\n",
       "    }\n",
       "</style>\n",
       "<table border=\"1\" class=\"dataframe\">\n",
       "  <thead>\n",
       "    <tr style=\"text-align: right;\">\n",
       "      <th></th>\n",
       "      <th>CIUDAD_ORIGEN</th>\n",
       "      <th>CIUDAD_DESTINO</th>\n",
       "      <th>TIPO_TREN</th>\n",
       "      <th>TIPO_TARIFA</th>\n",
       "      <th>CLASE</th>\n",
       "      <th>PRECIO</th>\n",
       "      <th>Tiempo_Viaje</th>\n",
       "      <th>Dif_Ini_Bus</th>\n",
       "      <th>FECHA_CONSULTA_HORA</th>\n",
       "      <th>FECHA_CONSULTA_NOMBREDIA</th>\n",
       "      <th>...</th>\n",
       "      <th>FECHA_INICIO_HORA</th>\n",
       "      <th>FECHA_INICIO_NOMBREDIA</th>\n",
       "      <th>FECHA_INICIO_DIA</th>\n",
       "      <th>FECHA_INICIO_MES</th>\n",
       "      <th>FECHA_INICIO_AÑO</th>\n",
       "      <th>FECHA_FIN_HORA</th>\n",
       "      <th>FECHA_FIN_NOMBREDIA</th>\n",
       "      <th>FECHA_FIN_DIA</th>\n",
       "      <th>FECHA_FIN_MES</th>\n",
       "      <th>FECHA_FIN_AÑO</th>\n",
       "    </tr>\n",
       "  </thead>\n",
       "  <tbody>\n",
       "    <tr>\n",
       "      <th>792</th>\n",
       "      <td>MADRID</td>\n",
       "      <td>SEVILLA</td>\n",
       "      <td>ALVIA</td>\n",
       "      <td>Flexible</td>\n",
       "      <td>PreferenteSólo plaza H</td>\n",
       "      <td>87.40</td>\n",
       "      <td>153.0</td>\n",
       "      <td>-12537.950000</td>\n",
       "      <td>11</td>\n",
       "      <td>Wednesday</td>\n",
       "      <td>...</td>\n",
       "      <td>18</td>\n",
       "      <td>Monday</td>\n",
       "      <td>5</td>\n",
       "      <td>8</td>\n",
       "      <td>2019</td>\n",
       "      <td>21</td>\n",
       "      <td>Monday</td>\n",
       "      <td>5</td>\n",
       "      <td>8</td>\n",
       "      <td>2019</td>\n",
       "    </tr>\n",
       "    <tr>\n",
       "      <th>956</th>\n",
       "      <td>MADRID</td>\n",
       "      <td>SEVILLA</td>\n",
       "      <td>AVE</td>\n",
       "      <td>Promo</td>\n",
       "      <td>Turista Plus</td>\n",
       "      <td>72.30</td>\n",
       "      <td>160.0</td>\n",
       "      <td>-276.666667</td>\n",
       "      <td>1</td>\n",
       "      <td>Tuesday</td>\n",
       "      <td>...</td>\n",
       "      <td>20</td>\n",
       "      <td>Monday</td>\n",
       "      <td>27</td>\n",
       "      <td>5</td>\n",
       "      <td>2019</td>\n",
       "      <td>23</td>\n",
       "      <td>Monday</td>\n",
       "      <td>27</td>\n",
       "      <td>5</td>\n",
       "      <td>2019</td>\n",
       "    </tr>\n",
       "    <tr>\n",
       "      <th>1372</th>\n",
       "      <td>MADRID</td>\n",
       "      <td>SEVILLA</td>\n",
       "      <td>MD-LD</td>\n",
       "      <td>Flexible</td>\n",
       "      <td>Turista con enlace</td>\n",
       "      <td>45.80</td>\n",
       "      <td>461.0</td>\n",
       "      <td>-721.800000</td>\n",
       "      <td>1</td>\n",
       "      <td>Tuesday</td>\n",
       "      <td>...</td>\n",
       "      <td>13</td>\n",
       "      <td>Monday</td>\n",
       "      <td>10</td>\n",
       "      <td>6</td>\n",
       "      <td>2019</td>\n",
       "      <td>20</td>\n",
       "      <td>Monday</td>\n",
       "      <td>10</td>\n",
       "      <td>6</td>\n",
       "      <td>2019</td>\n",
       "    </tr>\n",
       "    <tr>\n",
       "      <th>1463</th>\n",
       "      <td>SEVILLA</td>\n",
       "      <td>MADRID</td>\n",
       "      <td>ALVIA</td>\n",
       "      <td>Flexible</td>\n",
       "      <td>Preferente</td>\n",
       "      <td>87.40</td>\n",
       "      <td>166.0</td>\n",
       "      <td>-932.683333</td>\n",
       "      <td>1</td>\n",
       "      <td>Friday</td>\n",
       "      <td>...</td>\n",
       "      <td>9</td>\n",
       "      <td>Thursday</td>\n",
       "      <td>23</td>\n",
       "      <td>5</td>\n",
       "      <td>2019</td>\n",
       "      <td>12</td>\n",
       "      <td>Thursday</td>\n",
       "      <td>23</td>\n",
       "      <td>5</td>\n",
       "      <td>2019</td>\n",
       "    </tr>\n",
       "    <tr>\n",
       "      <th>1944</th>\n",
       "      <td>MADRID</td>\n",
       "      <td>VALENCIA</td>\n",
       "      <td>AVE</td>\n",
       "      <td>Promo</td>\n",
       "      <td>SIN CLASE</td>\n",
       "      <td>51.15</td>\n",
       "      <td>113.0</td>\n",
       "      <td>-690.116667</td>\n",
       "      <td>1</td>\n",
       "      <td>Thursday</td>\n",
       "      <td>...</td>\n",
       "      <td>14</td>\n",
       "      <td>Wednesday</td>\n",
       "      <td>1</td>\n",
       "      <td>5</td>\n",
       "      <td>2019</td>\n",
       "      <td>16</td>\n",
       "      <td>Wednesday</td>\n",
       "      <td>1</td>\n",
       "      <td>5</td>\n",
       "      <td>2019</td>\n",
       "    </tr>\n",
       "    <tr>\n",
       "      <th>...</th>\n",
       "      <td>...</td>\n",
       "      <td>...</td>\n",
       "      <td>...</td>\n",
       "      <td>...</td>\n",
       "      <td>...</td>\n",
       "      <td>...</td>\n",
       "      <td>...</td>\n",
       "      <td>...</td>\n",
       "      <td>...</td>\n",
       "      <td>...</td>\n",
       "      <td>...</td>\n",
       "      <td>...</td>\n",
       "      <td>...</td>\n",
       "      <td>...</td>\n",
       "      <td>...</td>\n",
       "      <td>...</td>\n",
       "      <td>...</td>\n",
       "      <td>...</td>\n",
       "      <td>...</td>\n",
       "      <td>...</td>\n",
       "      <td>...</td>\n",
       "    </tr>\n",
       "    <tr>\n",
       "      <th>378290</th>\n",
       "      <td>SEVILLA</td>\n",
       "      <td>MADRID</td>\n",
       "      <td>AVE</td>\n",
       "      <td>Flexible</td>\n",
       "      <td>Turista</td>\n",
       "      <td>76.30</td>\n",
       "      <td>152.0</td>\n",
       "      <td>-508.516667</td>\n",
       "      <td>1</td>\n",
       "      <td>Friday</td>\n",
       "      <td>...</td>\n",
       "      <td>16</td>\n",
       "      <td>Thursday</td>\n",
       "      <td>16</td>\n",
       "      <td>5</td>\n",
       "      <td>2019</td>\n",
       "      <td>19</td>\n",
       "      <td>Thursday</td>\n",
       "      <td>16</td>\n",
       "      <td>5</td>\n",
       "      <td>2019</td>\n",
       "    </tr>\n",
       "    <tr>\n",
       "      <th>380920</th>\n",
       "      <td>PONFERRADA</td>\n",
       "      <td>MADRID</td>\n",
       "      <td>LD</td>\n",
       "      <td>Flexible</td>\n",
       "      <td>Turista con enlace</td>\n",
       "      <td>57.00</td>\n",
       "      <td>272.0</td>\n",
       "      <td>-503.900000</td>\n",
       "      <td>19</td>\n",
       "      <td>Wednesday</td>\n",
       "      <td>...</td>\n",
       "      <td>11</td>\n",
       "      <td>Wednesday</td>\n",
       "      <td>5</td>\n",
       "      <td>6</td>\n",
       "      <td>2019</td>\n",
       "      <td>16</td>\n",
       "      <td>Wednesday</td>\n",
       "      <td>5</td>\n",
       "      <td>6</td>\n",
       "      <td>2019</td>\n",
       "    </tr>\n",
       "    <tr>\n",
       "      <th>381103</th>\n",
       "      <td>SEVILLA</td>\n",
       "      <td>MADRID</td>\n",
       "      <td>AVE</td>\n",
       "      <td>Flexible</td>\n",
       "      <td>Turista</td>\n",
       "      <td>76.30</td>\n",
       "      <td>152.0</td>\n",
       "      <td>-401.266667</td>\n",
       "      <td>1</td>\n",
       "      <td>Saturday</td>\n",
       "      <td>...</td>\n",
       "      <td>18</td>\n",
       "      <td>Friday</td>\n",
       "      <td>26</td>\n",
       "      <td>4</td>\n",
       "      <td>2019</td>\n",
       "      <td>21</td>\n",
       "      <td>Friday</td>\n",
       "      <td>26</td>\n",
       "      <td>4</td>\n",
       "      <td>2019</td>\n",
       "    </tr>\n",
       "    <tr>\n",
       "      <th>381402</th>\n",
       "      <td>SEVILLA</td>\n",
       "      <td>MADRID</td>\n",
       "      <td>INTERCITY</td>\n",
       "      <td>Flexible</td>\n",
       "      <td>Turista</td>\n",
       "      <td>62.20</td>\n",
       "      <td>160.0</td>\n",
       "      <td>-366.083333</td>\n",
       "      <td>1</td>\n",
       "      <td>Thursday</td>\n",
       "      <td>...</td>\n",
       "      <td>19</td>\n",
       "      <td>Wednesday</td>\n",
       "      <td>19</td>\n",
       "      <td>6</td>\n",
       "      <td>2019</td>\n",
       "      <td>21</td>\n",
       "      <td>Wednesday</td>\n",
       "      <td>19</td>\n",
       "      <td>6</td>\n",
       "      <td>2019</td>\n",
       "    </tr>\n",
       "    <tr>\n",
       "      <th>381760</th>\n",
       "      <td>MADRID</td>\n",
       "      <td>SEVILLA</td>\n",
       "      <td>SIN TIPO</td>\n",
       "      <td>Flexible</td>\n",
       "      <td>Turista</td>\n",
       "      <td>76.30</td>\n",
       "      <td>152.0</td>\n",
       "      <td>-487.000000</td>\n",
       "      <td>2</td>\n",
       "      <td>Sunday</td>\n",
       "      <td>...</td>\n",
       "      <td>18</td>\n",
       "      <td>Saturday</td>\n",
       "      <td>3</td>\n",
       "      <td>8</td>\n",
       "      <td>2019</td>\n",
       "      <td>20</td>\n",
       "      <td>Saturday</td>\n",
       "      <td>3</td>\n",
       "      <td>8</td>\n",
       "      <td>2019</td>\n",
       "    </tr>\n",
       "  </tbody>\n",
       "</table>\n",
       "<p>504 rows × 23 columns</p>\n",
       "</div>\n",
       "      <button class=\"colab-df-convert\" onclick=\"convertToInteractive('df-2a36d81b-6e0b-4314-ac58-0d431f5c1b62')\"\n",
       "              title=\"Convert this dataframe to an interactive table.\"\n",
       "              style=\"display:none;\">\n",
       "        \n",
       "  <svg xmlns=\"http://www.w3.org/2000/svg\" height=\"24px\"viewBox=\"0 0 24 24\"\n",
       "       width=\"24px\">\n",
       "    <path d=\"M0 0h24v24H0V0z\" fill=\"none\"/>\n",
       "    <path d=\"M18.56 5.44l.94 2.06.94-2.06 2.06-.94-2.06-.94-.94-2.06-.94 2.06-2.06.94zm-11 1L8.5 8.5l.94-2.06 2.06-.94-2.06-.94L8.5 2.5l-.94 2.06-2.06.94zm10 10l.94 2.06.94-2.06 2.06-.94-2.06-.94-.94-2.06-.94 2.06-2.06.94z\"/><path d=\"M17.41 7.96l-1.37-1.37c-.4-.4-.92-.59-1.43-.59-.52 0-1.04.2-1.43.59L10.3 9.45l-7.72 7.72c-.78.78-.78 2.05 0 2.83L4 21.41c.39.39.9.59 1.41.59.51 0 1.02-.2 1.41-.59l7.78-7.78 2.81-2.81c.8-.78.8-2.07 0-2.86zM5.41 20L4 18.59l7.72-7.72 1.47 1.35L5.41 20z\"/>\n",
       "  </svg>\n",
       "      </button>\n",
       "      \n",
       "  <style>\n",
       "    .colab-df-container {\n",
       "      display:flex;\n",
       "      flex-wrap:wrap;\n",
       "      gap: 12px;\n",
       "    }\n",
       "\n",
       "    .colab-df-convert {\n",
       "      background-color: #E8F0FE;\n",
       "      border: none;\n",
       "      border-radius: 50%;\n",
       "      cursor: pointer;\n",
       "      display: none;\n",
       "      fill: #1967D2;\n",
       "      height: 32px;\n",
       "      padding: 0 0 0 0;\n",
       "      width: 32px;\n",
       "    }\n",
       "\n",
       "    .colab-df-convert:hover {\n",
       "      background-color: #E2EBFA;\n",
       "      box-shadow: 0px 1px 2px rgba(60, 64, 67, 0.3), 0px 1px 3px 1px rgba(60, 64, 67, 0.15);\n",
       "      fill: #174EA6;\n",
       "    }\n",
       "\n",
       "    [theme=dark] .colab-df-convert {\n",
       "      background-color: #3B4455;\n",
       "      fill: #D2E3FC;\n",
       "    }\n",
       "\n",
       "    [theme=dark] .colab-df-convert:hover {\n",
       "      background-color: #434B5C;\n",
       "      box-shadow: 0px 1px 3px 1px rgba(0, 0, 0, 0.15);\n",
       "      filter: drop-shadow(0px 1px 2px rgba(0, 0, 0, 0.3));\n",
       "      fill: #FFFFFF;\n",
       "    }\n",
       "  </style>\n",
       "\n",
       "      <script>\n",
       "        const buttonEl =\n",
       "          document.querySelector('#df-2a36d81b-6e0b-4314-ac58-0d431f5c1b62 button.colab-df-convert');\n",
       "        buttonEl.style.display =\n",
       "          google.colab.kernel.accessAllowed ? 'block' : 'none';\n",
       "\n",
       "        async function convertToInteractive(key) {\n",
       "          const element = document.querySelector('#df-2a36d81b-6e0b-4314-ac58-0d431f5c1b62');\n",
       "          const dataTable =\n",
       "            await google.colab.kernel.invokeFunction('convertToInteractive',\n",
       "                                                     [key], {});\n",
       "          if (!dataTable) return;\n",
       "\n",
       "          const docLinkHtml = 'Like what you see? Visit the ' +\n",
       "            '<a target=\"_blank\" href=https://colab.research.google.com/notebooks/data_table.ipynb>data table notebook</a>'\n",
       "            + ' to learn more about interactive tables.';\n",
       "          element.innerHTML = '';\n",
       "          dataTable['output_type'] = 'display_data';\n",
       "          await google.colab.output.renderOutput(dataTable, element);\n",
       "          const docLink = document.createElement('div');\n",
       "          docLink.innerHTML = docLinkHtml;\n",
       "          element.appendChild(docLink);\n",
       "        }\n",
       "      </script>\n",
       "    </div>\n",
       "  </div>\n",
       "  "
      ],
      "text/plain": [
       "       CIUDAD_ORIGEN CIUDAD_DESTINO  TIPO_TREN TIPO_TARIFA  \\\n",
       "792           MADRID        SEVILLA      ALVIA    Flexible   \n",
       "956           MADRID        SEVILLA        AVE       Promo   \n",
       "1372          MADRID        SEVILLA      MD-LD    Flexible   \n",
       "1463         SEVILLA         MADRID      ALVIA    Flexible   \n",
       "1944          MADRID       VALENCIA        AVE       Promo   \n",
       "...              ...            ...        ...         ...   \n",
       "378290       SEVILLA         MADRID        AVE    Flexible   \n",
       "380920    PONFERRADA         MADRID         LD    Flexible   \n",
       "381103       SEVILLA         MADRID        AVE    Flexible   \n",
       "381402       SEVILLA         MADRID  INTERCITY    Flexible   \n",
       "381760        MADRID        SEVILLA   SIN TIPO    Flexible   \n",
       "\n",
       "                         CLASE  PRECIO  Tiempo_Viaje   Dif_Ini_Bus  \\\n",
       "792     PreferenteSólo plaza H   87.40         153.0 -12537.950000   \n",
       "956               Turista Plus   72.30         160.0   -276.666667   \n",
       "1372        Turista con enlace   45.80         461.0   -721.800000   \n",
       "1463                Preferente   87.40         166.0   -932.683333   \n",
       "1944                 SIN CLASE   51.15         113.0   -690.116667   \n",
       "...                        ...     ...           ...           ...   \n",
       "378290                 Turista   76.30         152.0   -508.516667   \n",
       "380920      Turista con enlace   57.00         272.0   -503.900000   \n",
       "381103                 Turista   76.30         152.0   -401.266667   \n",
       "381402                 Turista   62.20         160.0   -366.083333   \n",
       "381760                 Turista   76.30         152.0   -487.000000   \n",
       "\n",
       "        FECHA_CONSULTA_HORA FECHA_CONSULTA_NOMBREDIA  ...  FECHA_INICIO_HORA  \\\n",
       "792                      11                Wednesday  ...                 18   \n",
       "956                       1                  Tuesday  ...                 20   \n",
       "1372                      1                  Tuesday  ...                 13   \n",
       "1463                      1                   Friday  ...                  9   \n",
       "1944                      1                 Thursday  ...                 14   \n",
       "...                     ...                      ...  ...                ...   \n",
       "378290                    1                   Friday  ...                 16   \n",
       "380920                   19                Wednesday  ...                 11   \n",
       "381103                    1                 Saturday  ...                 18   \n",
       "381402                    1                 Thursday  ...                 19   \n",
       "381760                    2                   Sunday  ...                 18   \n",
       "\n",
       "        FECHA_INICIO_NOMBREDIA  FECHA_INICIO_DIA  FECHA_INICIO_MES  \\\n",
       "792                     Monday                 5                 8   \n",
       "956                     Monday                27                 5   \n",
       "1372                    Monday                10                 6   \n",
       "1463                  Thursday                23                 5   \n",
       "1944                 Wednesday                 1                 5   \n",
       "...                        ...               ...               ...   \n",
       "378290                Thursday                16                 5   \n",
       "380920               Wednesday                 5                 6   \n",
       "381103                  Friday                26                 4   \n",
       "381402               Wednesday                19                 6   \n",
       "381760                Saturday                 3                 8   \n",
       "\n",
       "       FECHA_INICIO_AÑO  FECHA_FIN_HORA  FECHA_FIN_NOMBREDIA  FECHA_FIN_DIA  \\\n",
       "792                2019              21               Monday              5   \n",
       "956                2019              23               Monday             27   \n",
       "1372               2019              20               Monday             10   \n",
       "1463               2019              12             Thursday             23   \n",
       "1944               2019              16            Wednesday              1   \n",
       "...                 ...             ...                  ...            ...   \n",
       "378290             2019              19             Thursday             16   \n",
       "380920             2019              16            Wednesday              5   \n",
       "381103             2019              21               Friday             26   \n",
       "381402             2019              21            Wednesday             19   \n",
       "381760             2019              20             Saturday              3   \n",
       "\n",
       "        FECHA_FIN_MES FECHA_FIN_AÑO  \n",
       "792                 8          2019  \n",
       "956                 5          2019  \n",
       "1372                6          2019  \n",
       "1463                5          2019  \n",
       "1944                5          2019  \n",
       "...               ...           ...  \n",
       "378290              5          2019  \n",
       "380920              6          2019  \n",
       "381103              4          2019  \n",
       "381402              6          2019  \n",
       "381760              8          2019  \n",
       "\n",
       "[504 rows x 23 columns]"
      ]
     },
     "execution_count": 64,
     "metadata": {},
     "output_type": "execute_result"
    }
   ],
   "source": [
    "df_renfe5[df_renfe5[\"Dif_Ini_Bus\"]<= 0]\n"
   ]
  },
  {
   "cell_type": "code",
   "execution_count": 65,
   "metadata": {
    "id": "FLXuyxjOzn8e"
   },
   "outputs": [],
   "source": [
    "df_renfe6= df_renfe5.copy()"
   ]
  },
  {
   "cell_type": "code",
   "execution_count": 66,
   "metadata": {
    "id": "vyH6ZIyPz2-_"
   },
   "outputs": [],
   "source": [
    "df_renfe6.drop(df_renfe5[df_renfe6[\"Dif_Ini_Bus\"]<= 0].index, inplace= True)"
   ]
  },
  {
   "cell_type": "code",
   "execution_count": 67,
   "metadata": {
    "colab": {
     "base_uri": "https://localhost:8080/",
     "height": 469
    },
    "id": "vjCRrb-11Vn0",
    "outputId": "8b37eb3f-66e8-434b-9d80-6c389530ceb1"
   },
   "outputs": [
    {
     "data": {
      "text/plain": [
       "array([[<Axes: title={'center': 'Dif_Ini_Bus'}>]], dtype=object)"
      ]
     },
     "execution_count": 67,
     "metadata": {},
     "output_type": "execute_result"
    },
    {
     "data": {
      "image/png": "[encoded data removed]",
      "text/plain": [
       "<Figure size 640x480 with 1 Axes>"
      ]
     },
     "metadata": {},
     "output_type": "display_data"
    }
   ],
   "source": [
    "df_renfe6.hist(\"Dif_Ini_Bus\")"
   ]
  },
  {
   "cell_type": "code",
   "execution_count": 68,
   "metadata": {
    "id": "OjL3p81p1lM_"
   },
   "outputs": [],
   "source": [
    "df_renfe_clean=df_renfe6.copy()"
   ]
  },
  {
   "cell_type": "code",
   "execution_count": 69,
   "metadata": {
    "id": "zSxnRji5p4oH"
   },
   "outputs": [],
   "source": [
    "#PREGUNTA 9"
   ]
  },
  {
   "cell_type": "code",
   "execution_count": null,
   "metadata": {
    "id": "HFxUmKoVFyTR"
   },
   "outputs": [],
   "source": [
    "#A"
   ]
  },
  {
   "cell_type": "code",
   "execution_count": 70,
   "metadata": {
    "colab": {
     "base_uri": "https://localhost:8080/"
    },
    "id": "I6FKYIFkqCk2",
    "outputId": "02c871b5-9e92-4082-edaa-9771d909dc77"
   },
   "outputs": [
    {
     "name": "stdout",
     "output_type": "stream",
     "text": [
      "Fecha mínima: 2019-04-11 00:00:00\n",
      "Fecha máxima: 2019-08-22 00:00:00\n"
     ]
    }
   ],
   "source": [
    "df_renfe_clean['FECHA_CONSULTA'] = pd.to_datetime(df_renfe_clean[['FECHA_CONSULTA_AÑO', 'FECHA_CONSULTA_MES', 'FECHA_CONSULTA_DIA']].rename(columns={'FECHA_CONSULTA_AÑO': 'year', 'FECHA_CONSULTA_MES': 'month', 'FECHA_CONSULTA_DIA': 'day'}))\n",
    "\n",
    "fecha_minima = df_renfe_clean['FECHA_CONSULTA'].min()\n",
    "fecha_maxima = df_renfe_clean['FECHA_CONSULTA'].max()\n",
    "\n",
    "\n",
    "print(\"Fecha mínima:\", fecha_minima)\n",
    "print(\"Fecha máxima:\", fecha_maxima)"
   ]
  },
  {
   "cell_type": "code",
   "execution_count": null,
   "metadata": {
    "id": "gHhG_ju4F1SZ"
   },
   "outputs": [],
   "source": [
    "#B"
   ]
  },
  {
   "cell_type": "code",
   "execution_count": 78,
   "metadata": {
    "colab": {
     "base_uri": "https://localhost:8080/"
    },
    "id": "Oys_hNFjL45g",
    "outputId": "b0212cb9-08ec-478e-a8c5-d7fe15932475"
   },
   "outputs": [
    {
     "name": "stdout",
     "output_type": "stream",
     "text": [
      "Precio mínimo del billete: 12.85\n",
      "Precio máximo del billete: 342.8\n",
      "Precio promedio del billete: 61.41680335770407\n"
     ]
    }
   ],
   "source": [
    "precios1 = df_renfe_clean[df_renfe_clean['PRECIO'] > 0]\n",
    "\n",
    "\n",
    "precio_minimo = precios1['PRECIO'].min()\n",
    "precio_maximo = precios1['PRECIO'].max()\n",
    "precio_promedio = precios1['PRECIO'].mean()\n",
    "\n",
    "\n",
    "print(\"Precio mínimo del billete:\", precio_minimo)\n",
    "print(\"Precio máximo del billete:\", precio_maximo)\n",
    "print(\"Precio promedio del billete:\", precio_promedio)"
   ]
  },
  {
   "cell_type": "code",
   "execution_count": null,
   "metadata": {
    "id": "HdiqSdTEJ74h"
   },
   "outputs": [],
   "source": [
    "#c"
   ]
  },
  {
   "cell_type": "code",
   "execution_count": 81,
   "metadata": {
    "colab": {
     "base_uri": "https://localhost:8080/"
    },
    "id": "Gh4WVCSyHHkD",
    "outputId": "87deae15-a8be-46e0-8dbb-eca6113424d0"
   },
   "outputs": [
    {
     "name": "stdout",
     "output_type": "stream",
     "text": [
      "Número de rutas agosto de 2019: 42999\n"
     ]
    }
   ],
   "source": [
    "rutas_agosto= df_renfe_clean[(df_renfe_clean['FECHA_CONSULTA_MES'] == 8) &  (df_renfe_clean['FECHA_CONSULTA_AÑO'] == 2019)]\n",
    "\n",
    "print(\"Número de rutas agosto de 2019:\", len(rutas_agosto))"
   ]
  },
  {
   "cell_type": "code",
   "execution_count": null,
   "metadata": {
    "id": "cGRF7_BjLVU8"
   },
   "outputs": [],
   "source": [
    "#d"
   ]
  },
  {
   "cell_type": "code",
   "execution_count": 83,
   "metadata": {
    "colab": {
     "base_uri": "https://localhost:8080/"
    },
    "id": "88wATTt-LUbs",
    "outputId": "8b5998be-1e59-41fe-e132-588a5acd6f05"
   },
   "outputs": [
    {
     "name": "stdout",
     "output_type": "stream",
     "text": [
      "rutas con duración superior a 4 horas: 344404\n"
     ]
    }
   ],
   "source": [
    "rutas_duracion= df_renfe_clean[df_renfe_clean['Tiempo_Viaje'] > 4]\n",
    "\n",
    "print(\"rutas con duración superior a 4 horas:\", len(rutas_duracion))"
   ]
  },
  {
   "cell_type": "code",
   "execution_count": null,
   "metadata": {
    "id": "Dn6L7fSsMd_v"
   },
   "outputs": [],
   "source": [
    "#e"
   ]
  },
  {
   "cell_type": "code",
   "execution_count": 86,
   "metadata": {
    "colab": {
     "base_uri": "https://localhost:8080/"
    },
    "id": "uMvI6Z6xLUG0",
    "outputId": "d2407673-e6e3-43be-923e-b7377562d190"
   },
   "outputs": [
    {
     "name": "stdout",
     "output_type": "stream",
     "text": [
      "Ciudad con menos simulaciones: PONFERRADA\n",
      "Cantidad de busquedas: 12364\n"
     ]
    }
   ],
   "source": [
    "simciudad = df_renfe_clean['CIUDAD_ORIGEN'].value_counts()\n",
    "\n",
    "ciudadmin= simciudad.idxmin()\n",
    "cantidadmin = simciudad.min()\n",
    "\n",
    "print(\"Ciudad con menos simulaciones:\", ciudadmin)\n",
    "print(\"Cantidad de busquedas:\", cantidadmin)"
   ]
  },
  {
   "cell_type": "code",
   "execution_count": null,
   "metadata": {
    "id": "VT6lsOtFOVMI"
   },
   "outputs": [],
   "source": [
    "#f"
   ]
  },
  {
   "cell_type": "code",
   "execution_count": 96,
   "metadata": {
    "colab": {
     "base_uri": "https://localhost:8080/"
    },
    "id": "ZI7TNMM1OVg7",
    "outputId": "c9fbc544-fa11-424b-e7db-4a2e73324b3d"
   },
   "outputs": [
    {
     "name": "stdout",
     "output_type": "stream",
     "text": [
      "Clase más barata: Turista\n",
      "Clase más cara: TuristaSólo plaza H\n"
     ]
    }
   ],
   "source": [
    "clasebarata = df_renfe_clean.loc[df_renfe_clean['PRECIO'].idxmin(), 'CLASE']\n",
    "clasecara = df_renfe_clean.loc[(df_renfe_clean['CLASE'] != 'SIN CLASE') & (df_renfe_clean['PRECIO']> 0),'CLASE'].max()\n",
    "\n",
    "\n",
    "print(\"Clase más barata:\", clasebarata)\n",
    "print(\"Clase más cara:\", clasecara)"
   ]
  },
  {
   "cell_type": "code",
   "execution_count": null,
   "metadata": {
    "id": "J4ouC5TlTYNg"
   },
   "outputs": [],
   "source": [
    "#g"
   ]
  },
  {
   "cell_type": "code",
   "execution_count": 104,
   "metadata": {
    "colab": {
     "base_uri": "https://localhost:8080/"
    },
    "id": "iakDFh-dTYCg",
    "outputId": "1f10c569-d45f-40b5-9e0d-87e2248c52a6"
   },
   "outputs": [
    {
     "name": "stdout",
     "output_type": "stream",
     "text": [
      "La tarifa más cara en septiembre de 2019 es: Promo +\n"
     ]
    }
   ],
   "source": [
    "tarifacara = df_renfe_clean[(df_renfe_clean['FECHA_INICIO_MES'] == 9) & (df_renfe_clean['FECHA_INICIO_AÑO'] == 2019) & (df_renfe_clean['TIPO_TARIFA'] != 'SIN TIPO') & (df_renfe_clean['PRECIO'] > 0)]['TIPO_TARIFA'].max()\n",
    "\n",
    "print(\"La tarifa más cara en septiembre de 2019 es:\", tarifacara)"
   ]
  },
  {
   "cell_type": "code",
   "execution_count": null,
   "metadata": {
    "id": "XI8Tqc5uV01k"
   },
   "outputs": [],
   "source": [
    "#h"
   ]
  },
  {
   "cell_type": "code",
   "execution_count": 109,
   "metadata": {
    "colab": {
     "base_uri": "https://localhost:8080/"
    },
    "id": "xCpJo6_TUy_U",
    "outputId": "89263ee4-d0d1-4b0f-8f81-90f8f3484897"
   },
   "outputs": [
    {
     "name": "stdout",
     "output_type": "stream",
     "text": [
      "tren más barato: REGIONAL\n",
      "precio promedio: 28.35000000000001\n"
     ]
    }
   ],
   "source": [
    "trenbarato = df_renfe_clean.groupby('TIPO_TREN')['PRECIO'].mean().idxmin()\n",
    "preciotrenbarato = df_renfe_clean[df_renfe_clean['TIPO_TREN'] == trenbarato]['PRECIO'].mean()\n",
    "\n",
    "print(\"tren más barato:\", trenbarato)\n",
    "print(\"precio promedio:\", preciotrenbarato)"
   ]
  },
  {
   "cell_type": "code",
   "execution_count": null,
   "metadata": {
    "id": "EZ76uGVcYYmL"
   },
   "outputs": [],
   "source": [
    "#i"
   ]
  },
  {
   "cell_type": "code",
   "execution_count": 111,
   "metadata": {
    "colab": {
     "base_uri": "https://localhost:8080/"
    },
    "id": "cFIarjoZYYd5",
    "outputId": "303558de-38b3-4a58-d0b3-5472eaabb072"
   },
   "outputs": [
    {
     "name": "stdout",
     "output_type": "stream",
     "text": [
      "La cantidad de rutas simuladas entre MADRID y BARCELONA es: 58915\n"
     ]
    }
   ],
   "source": [
    "rutas_simuladas = len(df_renfe_clean[(df_renfe_clean['CIUDAD_ORIGEN'] == 'MADRID') & (df_renfe_clean['CIUDAD_DESTINO'] == 'BARCELONA')])\n",
    "\n",
    "print(\"La cantidad de rutas simuladas entre MADRID y BARCELONA es:\", rutas_simuladas)"
   ]
  },
  {
   "cell_type": "code",
   "execution_count": null,
   "metadata": {
    "id": "Jg-qkXOYYCcv"
   },
   "outputs": [],
   "source": [
    "#j"
   ]
  },
  {
   "cell_type": "code",
   "execution_count": 113,
   "metadata": {
    "colab": {
     "base_uri": "https://localhost:8080/"
    },
    "id": "de9eEMpiYCr4",
    "outputId": "a18ceb81-a4e3-4212-cd73-7f8964d38cdc"
   },
   "outputs": [
    {
     "name": "stdout",
     "output_type": "stream",
     "text": [
      "El mes más barato para viajar desde BARCELONA a MADRID en AVE : August\n",
      "Su precio promedio es: 77.08665366077578\n"
     ]
    }
   ],
   "source": [
    "import calendar\n",
    "\n",
    "mesbarato = df_renfe_clean[(df_renfe_clean['CIUDAD_ORIGEN'] == 'BARCELONA') & (df_renfe_clean['CIUDAD_DESTINO'] == 'MADRID') & (df_renfe_clean['TIPO_TREN'] == 'AVE')].groupby('FECHA_INICIO_MES')['PRECIO'].mean().idxmin()\n",
    "preciomasbarato = df_renfe_clean[(df_renfe_clean['CIUDAD_ORIGEN'] == 'BARCELONA') & (df_renfe_clean['CIUDAD_DESTINO'] == 'MADRID') & (df_renfe_clean['TIPO_TREN'] == 'AVE') & (df_renfe_clean['FECHA_INICIO_MES'] == mes_mas_barato)]['PRECIO'].mean()\n",
    "nombremesbarato = calendar.month_name[mesbarato]\n",
    "\n",
    "\n",
    "print(\"El mes más barato para viajar desde BARCELONA a MADRID en AVE :\", nombremesbarato)\n",
    "print(\"Su precio promedio es:\", preciomasbarato)"
   ]
  },
  {
   "cell_type": "code",
   "execution_count": null,
   "metadata": {
    "id": "UyTAAvFLZ4wv"
   },
   "outputs": [],
   "source": [
    "#k"
   ]
  },
  {
   "cell_type": "code",
   "execution_count": 115,
   "metadata": {
    "colab": {
     "base_uri": "https://localhost:8080/"
    },
    "id": "xvyKR3GSZ5UV",
    "outputId": "66b82075-9205-4f39-8977-8f333da23281"
   },
   "outputs": [
    {
     "name": "stdout",
     "output_type": "stream",
     "text": [
      "El precio promedio para viajar desde MADRID a VALENCIA en el mes de AGOSTO es: 37.91687669114805\n"
     ]
    }
   ],
   "source": [
    "preciomedio = df_renfe_clean[(df_renfe_clean['CIUDAD_ORIGEN'] == 'MADRID') & (df_renfe_clean['CIUDAD_DESTINO'] == 'VALENCIA') & (df_renfe_clean['FECHA_INICIO_MES'] == 8)]['PRECIO'].mean()\n",
    "\n",
    "print(\"El precio promedio para viajar desde MADRID a VALENCIA en el mes de AGOSTO es:\", preciomedio)"
   ]
  },
  {
   "cell_type": "code",
   "execution_count": 116,
   "metadata": {
    "id": "ikAOHWMoqCs1"
   },
   "outputs": [],
   "source": [
    "df_final=df_renfe_clean.copy()"
   ]
  },
  {
   "cell_type": "code",
   "execution_count": 117,
   "metadata": {
    "id": "WlfRuYKzqC0x"
   },
   "outputs": [],
   "source": [
    "pd.to_pickle(df_final,\"/content/drive/MyDrive/DATA SCIENCE/Clase1y2-Preprocessing/Clase1y2-Preprocessing/Project TrenMax/Project TrenMax/df_final_pk\")"
   ]
  }
 ],
 "metadata": {
  "colab": {
   "provenance": []
  },
  "kernelspec": {
   "display_name": "Python 3 (ipykernel)",
   "language": "python",
   "name": "python3"
  },
  "language_info": {
   "codemirror_mode": {
    "name": "ipython",
    "version": 3
   },
   "file_extension": ".py",
   "mimetype": "text/x-python",
   "name": "python",
   "nbconvert_exporter": "python",
   "pygments_lexer": "ipython3",
   "version": "3.9.12"
  }
 },
 "nbformat": 4,
 "nbformat_minor": 1
}
